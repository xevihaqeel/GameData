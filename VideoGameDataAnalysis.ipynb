{
 "cells": [
  {
   "cell_type": "markdown",
   "id": "12b1f4be",
   "metadata": {},
   "source": [
    "<div style=\"border-radius: 15px; border: 3px solid indigo; padding: 15px;\">\n",
    "<b> Reviewer's comment 4</b>\n",
    "\n",
    "\n",
    "Excellent job, thank you so much! I do not have any questions, so the project can be accepted. Good luck! :) \n",
    "    \n",
    " \n",
    "</div>"
   ]
  },
  {
   "cell_type": "markdown",
   "id": "bbe1d6e5",
   "metadata": {},
   "source": [
    "<div style=\"border-radius: 15px; border: 3px solid indigo; padding: 15px;\">\n",
    "<b> Reviewer's comment 3</b>\n",
    "\n",
    "\n",
    "Thank you very much for such a good job! I've left a couple of new comments with digit 3. In one section, the old dataframe is used, and in the hypotheses section, zeros were not excluded. \n",
    "    \n",
    " \n",
    "</div>"
   ]
  },
  {
   "cell_type": "markdown",
   "id": "6ff8e3fb",
   "metadata": {},
   "source": [
    "<div style=\"border-radius: 15px; border: 3px solid indigo; padding: 15px;\">\n",
    "<b> Reviewer's comment 2</b>\n",
    "\n",
    "\n",
    "Thank you for updating the path! I've left my comments titled as **Reviewer's comment 2**. Would you take a look? You did a great job here! There're just a couple of issues that need to be fixed. \n",
    " \n",
    "</div>"
   ]
  },
  {
   "cell_type": "markdown",
   "id": "ce07769f",
   "metadata": {},
   "source": [
    "<div style=\"border-radius: 15px; border: 3px solid indigo; padding: 15px;\">\n",
    "<b> Reviewer's comment</b>\n",
    "    \n",
    "Hi, Justin! I am a reviewer on this project.\n",
    "\n",
    "Before we start, I want to pay your attention to the color marking:\n",
    "    \n",
    "<div class=\"alert alert-success\" style=\"border-radius: 15px; box-shadow: 4px 4px 4px; border: 1px solid \">\n",
    "<b> Reviewer's comment</b>\n",
    "    \n",
    "Great solutions and ideas that can and should be used in the future are in green comments.   \n",
    "</div>    \n",
    "    \n",
    "    \n",
    "<div class=\"alert alert-warning\" style=\"border-radius: 15px; box-shadow: 4px 4px 4px; border: 1px solid \">\n",
    "<b> Reviewer's comment</b>\n",
    "\n",
    "Yellow color indicates what should be optimized. This is not necessary, but it will be great if you make changes to this project.\n",
    "</div>      \n",
    "    \n",
    "    \n",
    "<div class=\"alert alert-danger\" style=\"border-radius: 15px; box-shadow: 4px 4px 4px; border: 1px solid \">\n",
    "<b> Reviewer's comment</b>\n",
    "\n",
    "Issues that need to be corrected to get right results are indicated in red comments. Note that the project cannot be accepted until these issues are resolved.\n",
    "</div>    \n",
    "\n",
    "<hr>\n",
    "    \n",
    "**Please, use some color other than those listed to highlight answers to my comments.**\n",
    "I would also ask you **not to change, move or delete my comments** so that it would be easier for me to navigate during the next review.\n",
    "    \n",
    "In addition, my comments are defined as headings. \n",
    "They can mess up the content; however, they are convenient, since you can immediately go to them. I will remove the headings from my comments in the next review. \n",
    "   \n",
    "    \n",
    "    \n",
    "<hr>\n",
    "    \n",
    "<font color='dodgerblue'>**A few words about the project:**</font> it looks like you did a good job. However, I cannot review the whole project, since the local path is used. Would you update it and use the server path to the file? \n",
    "\n",
    "By the way, do not forget about a title and introduction. \n",
    "    \n",
    "    \n",
    "\n",
    "</div>"
   ]
  },
  {
   "cell_type": "markdown",
   "id": "e631b9da",
   "metadata": {},
   "source": [
    "<div class=\"alert alert-danger\" style=\"border-radius: 15px; box-shadow: 4px 4px 4px; border: 1px solid \">\n",
    "<b> Reviewer's comment 2</b>\n",
    "    \n",
    "First things first. The introduction is the initial paragraph that each project, each essay or any article should have. It is important to write an introductory part because it gives an idea about the content of the project. Please, add a title and some introduction. \n",
    "</div>\n",
    "<div class=\"alert alert-success\" style=\"border-radius: 15px; box-shadow: 4px 4px 4px; border: 1px solid \">\n",
    "<h2> Reviewer's comment 3 </h2>\n",
    "    \n",
    "Great! :) It's a good habit actually. I have about 200 notebooks on my laptop with different tasks. Without a good intro it would be hard to remember what a particular notebook is about.\n",
    "\n",
    "</div>"
   ]
  },
  {
   "cell_type": "markdown",
   "id": "e9ceee07",
   "metadata": {},
   "source": [
    "# 2017 Game Sales Forecast"
   ]
  },
  {
   "cell_type": "markdown",
   "id": "cc73c1d3",
   "metadata": {},
   "source": [
    "In the dynamic and competitive world of video game retail, understanding the factors that contribute to a game’s success is crucial for strategic planning and effective marketing. As a data analyst for Ice, an online store specializing in video games, I have access to a wealth of data including user and expert reviews, game genres, platforms (e.g., Xbox, PlayStation), and historical sales data. This project aims to leverage this data to identify patterns and trends that can predict the success of video games.\n",
    "\n",
    "By analyzing data from 2016, we can uncover insights that will inform our advertising campaigns for 2017. The goal is to pinpoint potential bestsellers and optimize our marketing strategies to maximize sales and customer engagement. This analysis will involve statistical techniques and data visualization to interpret the data effectively and make data-driven decisions.|"
   ]
  },
  {
   "cell_type": "code",
   "execution_count": 2,
   "id": "a52d9a30",
   "metadata": {},
   "outputs": [],
   "source": [
    "import pandas as pd\n",
    "import numpy as np\n",
    "import matplotlib.pyplot as plt\n",
    "import seaborn as sns\n",
    "import math\n",
    "import random\n",
    "\n",
    "from functools import reduce\n",
    "from scipy import stats\n",
    "from scipy.stats import pearsonr"
   ]
  },
  {
   "cell_type": "code",
   "execution_count": 6,
   "id": "782d66c1",
   "metadata": {},
   "outputs": [],
   "source": [
    "games = pd.read_csv('datasets/games.csv')"
   ]
  },
  {
   "cell_type": "code",
   "execution_count": 8,
   "id": "ee18816f",
   "metadata": {
    "scrolled": true
   },
   "outputs": [
    {
     "name": "stdout",
     "output_type": "stream",
     "text": [
      "<class 'pandas.core.frame.DataFrame'>\n",
      "RangeIndex: 16715 entries, 0 to 16714\n",
      "Data columns (total 11 columns):\n",
      " #   Column           Non-Null Count  Dtype  \n",
      "---  ------           --------------  -----  \n",
      " 0   Name             16713 non-null  object \n",
      " 1   Platform         16715 non-null  object \n",
      " 2   Year_of_Release  16446 non-null  float64\n",
      " 3   Genre            16713 non-null  object \n",
      " 4   NA_sales         16715 non-null  float64\n",
      " 5   EU_sales         16715 non-null  float64\n",
      " 6   JP_sales         16715 non-null  float64\n",
      " 7   Other_sales      16715 non-null  float64\n",
      " 8   Critic_Score     8137 non-null   float64\n",
      " 9   User_Score       10014 non-null  object \n",
      " 10  Rating           9949 non-null   object \n",
      "dtypes: float64(6), object(5)\n",
      "memory usage: 1.4+ MB\n"
     ]
    },
    {
     "data": {
      "text/html": [
       "<div>\n",
       "<style scoped>\n",
       "    .dataframe tbody tr th:only-of-type {\n",
       "        vertical-align: middle;\n",
       "    }\n",
       "\n",
       "    .dataframe tbody tr th {\n",
       "        vertical-align: top;\n",
       "    }\n",
       "\n",
       "    .dataframe thead th {\n",
       "        text-align: right;\n",
       "    }\n",
       "</style>\n",
       "<table border=\"1\" class=\"dataframe\">\n",
       "  <thead>\n",
       "    <tr style=\"text-align: right;\">\n",
       "      <th></th>\n",
       "      <th>Name</th>\n",
       "      <th>Platform</th>\n",
       "      <th>Year_of_Release</th>\n",
       "      <th>Genre</th>\n",
       "      <th>NA_sales</th>\n",
       "      <th>EU_sales</th>\n",
       "      <th>JP_sales</th>\n",
       "      <th>Other_sales</th>\n",
       "      <th>Critic_Score</th>\n",
       "      <th>User_Score</th>\n",
       "      <th>Rating</th>\n",
       "    </tr>\n",
       "  </thead>\n",
       "  <tbody>\n",
       "    <tr>\n",
       "      <th>0</th>\n",
       "      <td>Wii Sports</td>\n",
       "      <td>Wii</td>\n",
       "      <td>2006.0</td>\n",
       "      <td>Sports</td>\n",
       "      <td>41.36</td>\n",
       "      <td>28.96</td>\n",
       "      <td>3.77</td>\n",
       "      <td>8.45</td>\n",
       "      <td>76.0</td>\n",
       "      <td>8</td>\n",
       "      <td>E</td>\n",
       "    </tr>\n",
       "    <tr>\n",
       "      <th>1</th>\n",
       "      <td>Super Mario Bros.</td>\n",
       "      <td>NES</td>\n",
       "      <td>1985.0</td>\n",
       "      <td>Platform</td>\n",
       "      <td>29.08</td>\n",
       "      <td>3.58</td>\n",
       "      <td>6.81</td>\n",
       "      <td>0.77</td>\n",
       "      <td>NaN</td>\n",
       "      <td>NaN</td>\n",
       "      <td>NaN</td>\n",
       "    </tr>\n",
       "    <tr>\n",
       "      <th>2</th>\n",
       "      <td>Mario Kart Wii</td>\n",
       "      <td>Wii</td>\n",
       "      <td>2008.0</td>\n",
       "      <td>Racing</td>\n",
       "      <td>15.68</td>\n",
       "      <td>12.76</td>\n",
       "      <td>3.79</td>\n",
       "      <td>3.29</td>\n",
       "      <td>82.0</td>\n",
       "      <td>8.3</td>\n",
       "      <td>E</td>\n",
       "    </tr>\n",
       "    <tr>\n",
       "      <th>3</th>\n",
       "      <td>Wii Sports Resort</td>\n",
       "      <td>Wii</td>\n",
       "      <td>2009.0</td>\n",
       "      <td>Sports</td>\n",
       "      <td>15.61</td>\n",
       "      <td>10.93</td>\n",
       "      <td>3.28</td>\n",
       "      <td>2.95</td>\n",
       "      <td>80.0</td>\n",
       "      <td>8</td>\n",
       "      <td>E</td>\n",
       "    </tr>\n",
       "    <tr>\n",
       "      <th>4</th>\n",
       "      <td>Pokemon Red/Pokemon Blue</td>\n",
       "      <td>GB</td>\n",
       "      <td>1996.0</td>\n",
       "      <td>Role-Playing</td>\n",
       "      <td>11.27</td>\n",
       "      <td>8.89</td>\n",
       "      <td>10.22</td>\n",
       "      <td>1.00</td>\n",
       "      <td>NaN</td>\n",
       "      <td>NaN</td>\n",
       "      <td>NaN</td>\n",
       "    </tr>\n",
       "    <tr>\n",
       "      <th>5</th>\n",
       "      <td>Tetris</td>\n",
       "      <td>GB</td>\n",
       "      <td>1989.0</td>\n",
       "      <td>Puzzle</td>\n",
       "      <td>23.20</td>\n",
       "      <td>2.26</td>\n",
       "      <td>4.22</td>\n",
       "      <td>0.58</td>\n",
       "      <td>NaN</td>\n",
       "      <td>NaN</td>\n",
       "      <td>NaN</td>\n",
       "    </tr>\n",
       "    <tr>\n",
       "      <th>6</th>\n",
       "      <td>New Super Mario Bros.</td>\n",
       "      <td>DS</td>\n",
       "      <td>2006.0</td>\n",
       "      <td>Platform</td>\n",
       "      <td>11.28</td>\n",
       "      <td>9.14</td>\n",
       "      <td>6.50</td>\n",
       "      <td>2.88</td>\n",
       "      <td>89.0</td>\n",
       "      <td>8.5</td>\n",
       "      <td>E</td>\n",
       "    </tr>\n",
       "    <tr>\n",
       "      <th>7</th>\n",
       "      <td>Wii Play</td>\n",
       "      <td>Wii</td>\n",
       "      <td>2006.0</td>\n",
       "      <td>Misc</td>\n",
       "      <td>13.96</td>\n",
       "      <td>9.18</td>\n",
       "      <td>2.93</td>\n",
       "      <td>2.84</td>\n",
       "      <td>58.0</td>\n",
       "      <td>6.6</td>\n",
       "      <td>E</td>\n",
       "    </tr>\n",
       "    <tr>\n",
       "      <th>8</th>\n",
       "      <td>New Super Mario Bros. Wii</td>\n",
       "      <td>Wii</td>\n",
       "      <td>2009.0</td>\n",
       "      <td>Platform</td>\n",
       "      <td>14.44</td>\n",
       "      <td>6.94</td>\n",
       "      <td>4.70</td>\n",
       "      <td>2.24</td>\n",
       "      <td>87.0</td>\n",
       "      <td>8.4</td>\n",
       "      <td>E</td>\n",
       "    </tr>\n",
       "    <tr>\n",
       "      <th>9</th>\n",
       "      <td>Duck Hunt</td>\n",
       "      <td>NES</td>\n",
       "      <td>1984.0</td>\n",
       "      <td>Shooter</td>\n",
       "      <td>26.93</td>\n",
       "      <td>0.63</td>\n",
       "      <td>0.28</td>\n",
       "      <td>0.47</td>\n",
       "      <td>NaN</td>\n",
       "      <td>NaN</td>\n",
       "      <td>NaN</td>\n",
       "    </tr>\n",
       "    <tr>\n",
       "      <th>10</th>\n",
       "      <td>Nintendogs</td>\n",
       "      <td>DS</td>\n",
       "      <td>2005.0</td>\n",
       "      <td>Simulation</td>\n",
       "      <td>9.05</td>\n",
       "      <td>10.95</td>\n",
       "      <td>1.93</td>\n",
       "      <td>2.74</td>\n",
       "      <td>NaN</td>\n",
       "      <td>NaN</td>\n",
       "      <td>NaN</td>\n",
       "    </tr>\n",
       "    <tr>\n",
       "      <th>11</th>\n",
       "      <td>Mario Kart DS</td>\n",
       "      <td>DS</td>\n",
       "      <td>2005.0</td>\n",
       "      <td>Racing</td>\n",
       "      <td>9.71</td>\n",
       "      <td>7.47</td>\n",
       "      <td>4.13</td>\n",
       "      <td>1.90</td>\n",
       "      <td>91.0</td>\n",
       "      <td>8.6</td>\n",
       "      <td>E</td>\n",
       "    </tr>\n",
       "    <tr>\n",
       "      <th>12</th>\n",
       "      <td>Pokemon Gold/Pokemon Silver</td>\n",
       "      <td>GB</td>\n",
       "      <td>1999.0</td>\n",
       "      <td>Role-Playing</td>\n",
       "      <td>9.00</td>\n",
       "      <td>6.18</td>\n",
       "      <td>7.20</td>\n",
       "      <td>0.71</td>\n",
       "      <td>NaN</td>\n",
       "      <td>NaN</td>\n",
       "      <td>NaN</td>\n",
       "    </tr>\n",
       "    <tr>\n",
       "      <th>13</th>\n",
       "      <td>Wii Fit</td>\n",
       "      <td>Wii</td>\n",
       "      <td>2007.0</td>\n",
       "      <td>Sports</td>\n",
       "      <td>8.92</td>\n",
       "      <td>8.03</td>\n",
       "      <td>3.60</td>\n",
       "      <td>2.15</td>\n",
       "      <td>80.0</td>\n",
       "      <td>7.7</td>\n",
       "      <td>E</td>\n",
       "    </tr>\n",
       "    <tr>\n",
       "      <th>14</th>\n",
       "      <td>Kinect Adventures!</td>\n",
       "      <td>X360</td>\n",
       "      <td>2010.0</td>\n",
       "      <td>Misc</td>\n",
       "      <td>15.00</td>\n",
       "      <td>4.89</td>\n",
       "      <td>0.24</td>\n",
       "      <td>1.69</td>\n",
       "      <td>61.0</td>\n",
       "      <td>6.3</td>\n",
       "      <td>E</td>\n",
       "    </tr>\n",
       "    <tr>\n",
       "      <th>15</th>\n",
       "      <td>Wii Fit Plus</td>\n",
       "      <td>Wii</td>\n",
       "      <td>2009.0</td>\n",
       "      <td>Sports</td>\n",
       "      <td>9.01</td>\n",
       "      <td>8.49</td>\n",
       "      <td>2.53</td>\n",
       "      <td>1.77</td>\n",
       "      <td>80.0</td>\n",
       "      <td>7.4</td>\n",
       "      <td>E</td>\n",
       "    </tr>\n",
       "    <tr>\n",
       "      <th>16</th>\n",
       "      <td>Grand Theft Auto V</td>\n",
       "      <td>PS3</td>\n",
       "      <td>2013.0</td>\n",
       "      <td>Action</td>\n",
       "      <td>7.02</td>\n",
       "      <td>9.09</td>\n",
       "      <td>0.98</td>\n",
       "      <td>3.96</td>\n",
       "      <td>97.0</td>\n",
       "      <td>8.2</td>\n",
       "      <td>M</td>\n",
       "    </tr>\n",
       "    <tr>\n",
       "      <th>17</th>\n",
       "      <td>Grand Theft Auto: San Andreas</td>\n",
       "      <td>PS2</td>\n",
       "      <td>2004.0</td>\n",
       "      <td>Action</td>\n",
       "      <td>9.43</td>\n",
       "      <td>0.40</td>\n",
       "      <td>0.41</td>\n",
       "      <td>10.57</td>\n",
       "      <td>95.0</td>\n",
       "      <td>9</td>\n",
       "      <td>M</td>\n",
       "    </tr>\n",
       "    <tr>\n",
       "      <th>18</th>\n",
       "      <td>Super Mario World</td>\n",
       "      <td>SNES</td>\n",
       "      <td>1990.0</td>\n",
       "      <td>Platform</td>\n",
       "      <td>12.78</td>\n",
       "      <td>3.75</td>\n",
       "      <td>3.54</td>\n",
       "      <td>0.55</td>\n",
       "      <td>NaN</td>\n",
       "      <td>NaN</td>\n",
       "      <td>NaN</td>\n",
       "    </tr>\n",
       "    <tr>\n",
       "      <th>19</th>\n",
       "      <td>Brain Age: Train Your Brain in Minutes a Day</td>\n",
       "      <td>DS</td>\n",
       "      <td>2005.0</td>\n",
       "      <td>Misc</td>\n",
       "      <td>4.74</td>\n",
       "      <td>9.20</td>\n",
       "      <td>4.16</td>\n",
       "      <td>2.04</td>\n",
       "      <td>77.0</td>\n",
       "      <td>7.9</td>\n",
       "      <td>E</td>\n",
       "    </tr>\n",
       "  </tbody>\n",
       "</table>\n",
       "</div>"
      ],
      "text/plain": [
       "                                            Name Platform  Year_of_Release  \\\n",
       "0                                     Wii Sports      Wii           2006.0   \n",
       "1                              Super Mario Bros.      NES           1985.0   \n",
       "2                                 Mario Kart Wii      Wii           2008.0   \n",
       "3                              Wii Sports Resort      Wii           2009.0   \n",
       "4                       Pokemon Red/Pokemon Blue       GB           1996.0   \n",
       "5                                         Tetris       GB           1989.0   \n",
       "6                          New Super Mario Bros.       DS           2006.0   \n",
       "7                                       Wii Play      Wii           2006.0   \n",
       "8                      New Super Mario Bros. Wii      Wii           2009.0   \n",
       "9                                      Duck Hunt      NES           1984.0   \n",
       "10                                    Nintendogs       DS           2005.0   \n",
       "11                                 Mario Kart DS       DS           2005.0   \n",
       "12                   Pokemon Gold/Pokemon Silver       GB           1999.0   \n",
       "13                                       Wii Fit      Wii           2007.0   \n",
       "14                            Kinect Adventures!     X360           2010.0   \n",
       "15                                  Wii Fit Plus      Wii           2009.0   \n",
       "16                            Grand Theft Auto V      PS3           2013.0   \n",
       "17                 Grand Theft Auto: San Andreas      PS2           2004.0   \n",
       "18                             Super Mario World     SNES           1990.0   \n",
       "19  Brain Age: Train Your Brain in Minutes a Day       DS           2005.0   \n",
       "\n",
       "           Genre  NA_sales  EU_sales  JP_sales  Other_sales  Critic_Score  \\\n",
       "0         Sports     41.36     28.96      3.77         8.45          76.0   \n",
       "1       Platform     29.08      3.58      6.81         0.77           NaN   \n",
       "2         Racing     15.68     12.76      3.79         3.29          82.0   \n",
       "3         Sports     15.61     10.93      3.28         2.95          80.0   \n",
       "4   Role-Playing     11.27      8.89     10.22         1.00           NaN   \n",
       "5         Puzzle     23.20      2.26      4.22         0.58           NaN   \n",
       "6       Platform     11.28      9.14      6.50         2.88          89.0   \n",
       "7           Misc     13.96      9.18      2.93         2.84          58.0   \n",
       "8       Platform     14.44      6.94      4.70         2.24          87.0   \n",
       "9        Shooter     26.93      0.63      0.28         0.47           NaN   \n",
       "10    Simulation      9.05     10.95      1.93         2.74           NaN   \n",
       "11        Racing      9.71      7.47      4.13         1.90          91.0   \n",
       "12  Role-Playing      9.00      6.18      7.20         0.71           NaN   \n",
       "13        Sports      8.92      8.03      3.60         2.15          80.0   \n",
       "14          Misc     15.00      4.89      0.24         1.69          61.0   \n",
       "15        Sports      9.01      8.49      2.53         1.77          80.0   \n",
       "16        Action      7.02      9.09      0.98         3.96          97.0   \n",
       "17        Action      9.43      0.40      0.41        10.57          95.0   \n",
       "18      Platform     12.78      3.75      3.54         0.55           NaN   \n",
       "19          Misc      4.74      9.20      4.16         2.04          77.0   \n",
       "\n",
       "   User_Score Rating  \n",
       "0           8      E  \n",
       "1         NaN    NaN  \n",
       "2         8.3      E  \n",
       "3           8      E  \n",
       "4         NaN    NaN  \n",
       "5         NaN    NaN  \n",
       "6         8.5      E  \n",
       "7         6.6      E  \n",
       "8         8.4      E  \n",
       "9         NaN    NaN  \n",
       "10        NaN    NaN  \n",
       "11        8.6      E  \n",
       "12        NaN    NaN  \n",
       "13        7.7      E  \n",
       "14        6.3      E  \n",
       "15        7.4      E  \n",
       "16        8.2      M  \n",
       "17          9      M  \n",
       "18        NaN    NaN  \n",
       "19        7.9      E  "
      ]
     },
     "execution_count": 8,
     "metadata": {},
     "output_type": "execute_result"
    }
   ],
   "source": [
    "games.info()\n",
    "games.head(20)"
   ]
  },
  {
   "cell_type": "markdown",
   "id": "c5d2531d",
   "metadata": {},
   "source": [
    "# Preparing Data"
   ]
  },
  {
   "cell_type": "code",
   "execution_count": 10,
   "id": "22ee8799",
   "metadata": {},
   "outputs": [],
   "source": [
    "#making column titles lowercase\n",
    "games.columns = map(str.lower, games.columns)\n"
   ]
  },
  {
   "cell_type": "code",
   "execution_count": 6,
   "id": "1d2c8cc7",
   "metadata": {},
   "outputs": [
    {
     "data": {
      "text/html": [
       "<div>\n",
       "<style scoped>\n",
       "    .dataframe tbody tr th:only-of-type {\n",
       "        vertical-align: middle;\n",
       "    }\n",
       "\n",
       "    .dataframe tbody tr th {\n",
       "        vertical-align: top;\n",
       "    }\n",
       "\n",
       "    .dataframe thead th {\n",
       "        text-align: right;\n",
       "    }\n",
       "</style>\n",
       "<table border=\"1\" class=\"dataframe\">\n",
       "  <thead>\n",
       "    <tr style=\"text-align: right;\">\n",
       "      <th></th>\n",
       "      <th>name</th>\n",
       "      <th>platform</th>\n",
       "      <th>year_of_release</th>\n",
       "      <th>genre</th>\n",
       "      <th>na_sales</th>\n",
       "      <th>eu_sales</th>\n",
       "      <th>jp_sales</th>\n",
       "      <th>other_sales</th>\n",
       "      <th>critic_score</th>\n",
       "      <th>user_score</th>\n",
       "      <th>rating</th>\n",
       "    </tr>\n",
       "  </thead>\n",
       "  <tbody>\n",
       "    <tr>\n",
       "      <th>4844</th>\n",
       "      <td>Transformers: The Game (XBox 360, PS2, PS3, Wi...</td>\n",
       "      <td>PS3</td>\n",
       "      <td>2007.0</td>\n",
       "      <td>Action</td>\n",
       "      <td>0.32</td>\n",
       "      <td>0.03</td>\n",
       "      <td>0.01</td>\n",
       "      <td>0.04</td>\n",
       "      <td>NaN</td>\n",
       "      <td>NaN</td>\n",
       "      <td>NaN</td>\n",
       "    </tr>\n",
       "  </tbody>\n",
       "</table>\n",
       "</div>"
      ],
      "text/plain": [
       "                                                   name platform  \\\n",
       "4844  Transformers: The Game (XBox 360, PS2, PS3, Wi...      PS3   \n",
       "\n",
       "      year_of_release   genre  na_sales  eu_sales  jp_sales  other_sales  \\\n",
       "4844           2007.0  Action      0.32      0.03      0.01         0.04   \n",
       "\n",
       "      critic_score user_score rating  \n",
       "4844           NaN        NaN    NaN  "
      ]
     },
     "execution_count": 6,
     "metadata": {},
     "output_type": "execute_result"
    }
   ],
   "source": [
    "games.sample()\n"
   ]
  },
  {
   "cell_type": "code",
   "execution_count": 7,
   "id": "d28a592a",
   "metadata": {},
   "outputs": [],
   "source": [
    "#dropping missing values from teh year of release column\n",
    "games['year_of_release'] = games['year_of_release'].fillna(0)"
   ]
  },
  {
   "cell_type": "code",
   "execution_count": 8,
   "id": "a8780f09",
   "metadata": {},
   "outputs": [],
   "source": [
    "#converting year of release into ints\n",
    "games['year_of_release'] = games['year_of_release'].astype(int)\n",
    "#converting the critic scores to integer type\n",
    "games['critic_score'] = games['critic_score'].fillna(0)"
   ]
  },
  {
   "cell_type": "markdown",
   "id": "ffacbd2a",
   "metadata": {},
   "source": [
    "<div class=\"alert alert-success\" style=\"border-radius: 15px; box-shadow: 4px 4px 4px; border: 1px solid \">\n",
    "<h2> Reviewer's comment 2</h2>\n",
    "    \n",
    "Yes, we can do this. Filling in the gaps with some strange value is an appropriate solution. It's much safer than trying to replace them with some median. At the same time, we can ignore the gaps. \n",
    "    \n",
    "</div>\n",
    "<div class=\"alert alert-warning\" style=\"border-radius: 15px; box-shadow: 4px 4px 4px; border: 1px solid \">\n",
    "<h2> Reviewer's comment 2</h2>\n",
    "    \n",
    "\n",
    "However, we should always make sure the data does not have the values we are using to replace the gaps. \n",
    "</div>"
   ]
  },
  {
   "cell_type": "code",
   "execution_count": 8,
   "id": "6ba312a9",
   "metadata": {},
   "outputs": [
    {
     "data": {
      "text/plain": [
       "0"
      ]
     },
     "metadata": {},
     "output_type": "display_data"
    }
   ],
   "source": [
    "testing = games['year_of_release'].isna().sum()\n",
    "display(testing)"
   ]
  },
  {
   "cell_type": "markdown",
   "id": "5388031b",
   "metadata": {},
   "source": [
    "- For the values in the 'year_of_release' column, I decided to change them to ints as years are never represented as numbers with decimal places and leaving them as such would likely lead to confusion and messy data \n",
    "\n",
    "- It's hard to say why the values  are missing. I thought there might be correlation with the age of the games/system. \n",
    "\n",
    "- I decided to treat TBD as NaN and where applicable will replace with 0"
   ]
  },
  {
   "cell_type": "markdown",
   "id": "613a6cfa",
   "metadata": {},
   "source": [
    "<div class=\"alert alert-success\" style=\"border-radius: 15px; box-shadow: 4px 4px 4px; border: 1px solid \">\n",
    "<h2> Reviewer's comment 2</h2>\n",
    "    \n",
    "Yes, we can treat TBD as a missing value.\n",
    "\n",
    "    \n",
    "\n",
    "> It's hard to say why the values are missing.\n",
    "\n",
    "\n",
    "It is possible that some games did not gain enough scores.\n",
    "\n",
    "</div>"
   ]
  },
  {
   "cell_type": "code",
   "execution_count": 9,
   "id": "8fcd10d0",
   "metadata": {},
   "outputs": [],
   "source": [
    "#dealing with the tbd in user score values\n",
    "games.loc[games['user_score'] == 'tbd', 'user_score'] = np.nan\n",
    "\n",
    "games['user_score'] = games['user_score'].fillna(0).astype(float)"
   ]
  },
  {
   "cell_type": "code",
   "execution_count": 10,
   "id": "9c39adf8",
   "metadata": {},
   "outputs": [],
   "source": [
    "#calculating total sales\n",
    "games['total_sales'] = games[['na_sales','eu_sales','jp_sales','other_sales']].sum(axis=1)"
   ]
  },
  {
   "cell_type": "markdown",
   "id": "edb1b878",
   "metadata": {},
   "source": [
    "<div class=\"alert alert-success\" style=\"border-radius: 15px; box-shadow: 4px 4px 4px; border: 1px solid \">\n",
    "<h2> Reviewer's comment 2</h2>\n",
    "    \n",
    "You can also use **sum** with **axis=1** argument:\n",
    "</div>\n",
    "\n",
    "```python\n",
    "\n",
    "\n",
    "df['total_sales'] = df[['na_sales','eu_sales','jp_sales','other_sales']].sum(axis=1)\n",
    "```"
   ]
  },
  {
   "cell_type": "code",
   "execution_count": 11,
   "id": "c9b803a1-ac46-49c4-a786-30e96d2b9dd6",
   "metadata": {},
   "outputs": [],
   "source": [
    "#replacing infinite values with NaN\n",
    "games = games.replace([np.inf,-np.inf],np.nan)"
   ]
  },
  {
   "cell_type": "code",
   "execution_count": 12,
   "id": "8a293713",
   "metadata": {},
   "outputs": [
    {
     "data": {
      "text/plain": [
       "0"
      ]
     },
     "execution_count": 12,
     "metadata": {},
     "output_type": "execute_result"
    }
   ],
   "source": [
    "games.duplicated().sum()"
   ]
  },
  {
   "cell_type": "code",
   "execution_count": 13,
   "id": "84764a32",
   "metadata": {
    "scrolled": true
   },
   "outputs": [],
   "source": [
    "dupe_check = games[games.duplicated(['name','year_of_release','platform'])]"
   ]
  },
  {
   "cell_type": "code",
   "execution_count": 14,
   "id": "230dad6f",
   "metadata": {},
   "outputs": [
    {
     "data": {
      "text/html": [
       "<div>\n",
       "<style scoped>\n",
       "    .dataframe tbody tr th:only-of-type {\n",
       "        vertical-align: middle;\n",
       "    }\n",
       "\n",
       "    .dataframe tbody tr th {\n",
       "        vertical-align: top;\n",
       "    }\n",
       "\n",
       "    .dataframe thead th {\n",
       "        text-align: right;\n",
       "    }\n",
       "</style>\n",
       "<table border=\"1\" class=\"dataframe\">\n",
       "  <thead>\n",
       "    <tr style=\"text-align: right;\">\n",
       "      <th></th>\n",
       "      <th>name</th>\n",
       "      <th>platform</th>\n",
       "      <th>year_of_release</th>\n",
       "      <th>genre</th>\n",
       "      <th>na_sales</th>\n",
       "      <th>eu_sales</th>\n",
       "      <th>jp_sales</th>\n",
       "      <th>other_sales</th>\n",
       "      <th>critic_score</th>\n",
       "      <th>user_score</th>\n",
       "      <th>rating</th>\n",
       "      <th>total_sales</th>\n",
       "    </tr>\n",
       "  </thead>\n",
       "  <tbody>\n",
       "    <tr>\n",
       "      <th>14244</th>\n",
       "      <td>NaN</td>\n",
       "      <td>GEN</td>\n",
       "      <td>1993</td>\n",
       "      <td>NaN</td>\n",
       "      <td>0.0</td>\n",
       "      <td>0.00</td>\n",
       "      <td>0.03</td>\n",
       "      <td>0.0</td>\n",
       "      <td>0.0</td>\n",
       "      <td>0.0</td>\n",
       "      <td>NaN</td>\n",
       "      <td>0.03</td>\n",
       "    </tr>\n",
       "    <tr>\n",
       "      <th>16230</th>\n",
       "      <td>Madden NFL 13</td>\n",
       "      <td>PS3</td>\n",
       "      <td>2012</td>\n",
       "      <td>Sports</td>\n",
       "      <td>0.0</td>\n",
       "      <td>0.01</td>\n",
       "      <td>0.00</td>\n",
       "      <td>0.0</td>\n",
       "      <td>83.0</td>\n",
       "      <td>5.5</td>\n",
       "      <td>E</td>\n",
       "      <td>0.01</td>\n",
       "    </tr>\n",
       "  </tbody>\n",
       "</table>\n",
       "</div>"
      ],
      "text/plain": [
       "                name platform  year_of_release   genre  na_sales  eu_sales  \\\n",
       "14244            NaN      GEN             1993     NaN       0.0      0.00   \n",
       "16230  Madden NFL 13      PS3             2012  Sports       0.0      0.01   \n",
       "\n",
       "       jp_sales  other_sales  critic_score  user_score rating  total_sales  \n",
       "14244      0.03          0.0           0.0         0.0    NaN         0.03  \n",
       "16230      0.00          0.0          83.0         5.5      E         0.01  "
      ]
     },
     "execution_count": 14,
     "metadata": {},
     "output_type": "execute_result"
    }
   ],
   "source": [
    "dupe_check"
   ]
  },
  {
   "cell_type": "code",
   "execution_count": 11,
   "id": "f89bb5d7",
   "metadata": {
    "scrolled": true
   },
   "outputs": [],
   "source": [
    "games = games.drop_duplicates(subset=['name','year_of_release','platform'],keep='first',inplace=False)"
   ]
  },
  {
   "cell_type": "code",
   "execution_count": 12,
   "id": "d4246b24",
   "metadata": {},
   "outputs": [],
   "source": [
    "dupes = games[games.duplicated(['name','year_of_release','platform'])]"
   ]
  },
  {
   "cell_type": "code",
   "execution_count": 13,
   "id": "844ca43b",
   "metadata": {},
   "outputs": [
    {
     "data": {
      "text/html": [
       "<div>\n",
       "<style scoped>\n",
       "    .dataframe tbody tr th:only-of-type {\n",
       "        vertical-align: middle;\n",
       "    }\n",
       "\n",
       "    .dataframe tbody tr th {\n",
       "        vertical-align: top;\n",
       "    }\n",
       "\n",
       "    .dataframe thead th {\n",
       "        text-align: right;\n",
       "    }\n",
       "</style>\n",
       "<table border=\"1\" class=\"dataframe\">\n",
       "  <thead>\n",
       "    <tr style=\"text-align: right;\">\n",
       "      <th></th>\n",
       "      <th>name</th>\n",
       "      <th>platform</th>\n",
       "      <th>year_of_release</th>\n",
       "      <th>genre</th>\n",
       "      <th>na_sales</th>\n",
       "      <th>eu_sales</th>\n",
       "      <th>jp_sales</th>\n",
       "      <th>other_sales</th>\n",
       "      <th>critic_score</th>\n",
       "      <th>user_score</th>\n",
       "      <th>rating</th>\n",
       "      <th>total_sales</th>\n",
       "    </tr>\n",
       "  </thead>\n",
       "  <tbody>\n",
       "  </tbody>\n",
       "</table>\n",
       "</div>"
      ],
      "text/plain": [
       "Empty DataFrame\n",
       "Columns: [name, platform, year_of_release, genre, na_sales, eu_sales, jp_sales, other_sales, critic_score, user_score, rating, total_sales]\n",
       "Index: []"
      ]
     },
     "execution_count": 13,
     "metadata": {},
     "output_type": "execute_result"
    }
   ],
   "source": [
    "dupes"
   ]
  },
  {
   "cell_type": "markdown",
   "id": "91d8be25",
   "metadata": {},
   "source": [
    "<div class=\"alert alert-success\" style=\"border-radius: 15px; box-shadow: 4px 4px 4px; border: 1px solid \">\n",
    "<h2> Reviewer's comment 3</h2>\n",
    "    \n",
    "Very good!    \n",
    "</div>"
   ]
  },
  {
   "cell_type": "markdown",
   "id": "10f2cae5",
   "metadata": {},
   "source": [
    "**Intermediate Conclusion**\n",
    "\n",
    "1. **Handling Missing Values**:\n",
    "   - Missing values in the `year_of_release` column are filled with `0` and converted to integers.\n",
    "   - Missing values in the `critic_score` column are filled with `0`.\n",
    "\n",
    "2. **Dealing with 'tbd' in User Scores**:\n",
    "   - Entries with 'tbd' in the `user_score` column are replaced with `NaN`.\n",
    "   - Missing values in the `user_score` column are filled with `0` and converted to floats.\n",
    "\n",
    "3. **Calculating Total Sales**:\n",
    "   - A new column `total_sales` is created by summing up sales from `na_sales`, `eu_sales`, `jp_sales`, and `other_sales`.\n",
    "\n",
    "4. **Replacing Infinite Values**:\n",
    "   - Infinite values in the dataset are replaced with `NaN`.\n",
    "\n",
    "5. **Removing Duplicates**:\n",
    "   - Duplicate entries based on `name`, `year_of_release`, and `platform` are identified and removed, keeping only the first occurrence.\n",
    "\n",
    "6. **Verification**:\n",
    "   - The code checks for any remaining missing values in the `year_of_release` column.\n",
    "   \n",
    "   **Hypothesis**:\n",
    "   - the date ranges of the data are what will make it difficult to use. With the data going back to years where ESRB ratings didn't exist, critic/user scoring wasn't common and global releases of games were less common\n",
    "   - In order to make the data easier to work with, we'll have to choose a specific time frame\n",
    "   \n",
    "   **Next Step(s):**\n",
    "   \n",
    "   Next I'm going to analyze the data to discern which of it can be usable for forecasting 2017"
   ]
  },
  {
   "cell_type": "markdown",
   "id": "e33b1bb3",
   "metadata": {},
   "source": [
    "<div class=\"alert alert-danger\" style=\"border-radius: 15px; box-shadow: 4px 4px 4px; border: 1px solid \">\n",
    "<b> Reviewer's comment 2</b>\n",
    "    \n",
    "- Please do not forget to check data for the duplicates. \n",
    "\n",
    "\n",
    "- Try to check for the name-year-platform duplicates as well. \n",
    "\n",
    "\n",
    "- Please add an intermediate conclusion about the introductory part. What has been done, what hypotheses about the data we have and what we are going to do next. \n",
    "</div>\n",
    "<div class=\"alert alert-success\" style=\"border-radius: 15px; box-shadow: 4px 4px 4px; border: 1px solid \">\n",
    "<h2> Reviewer's comment 3</h2>\n",
    "    \n",
    "Well done! </div>"
   ]
  },
  {
   "cell_type": "markdown",
   "id": "af41c27f",
   "metadata": {},
   "source": [
    "# Analyzing Data"
   ]
  },
  {
   "cell_type": "markdown",
   "id": "c33412b1",
   "metadata": {},
   "source": [
    "### Games Released in Different Years"
   ]
  },
  {
   "cell_type": "code",
   "execution_count": 14,
   "id": "bb44a332",
   "metadata": {},
   "outputs": [
    {
     "data": {
      "image/png": "[encoded data removed]",
      "text/plain": [
       "<Figure size 1000x500 with 1 Axes>"
      ]
     },
     "metadata": {},
     "output_type": "display_data"
    }
   ],
   "source": [
    "games_per_year = games[games['year_of_release'] >= 1970]['year_of_release'].value_counts().sort_index()\n",
    "plt.figure(figsize=(10,5))\n",
    "plt.plot(games_per_year.index, games_per_year.values)\n",
    "plt.title('Number of Games Released Each Year')\n",
    "plt.xlabel('Year of Release')\n",
    "plt.ylabel('Number of Games')\n",
    "plt.show()\n"
   ]
  },
  {
   "cell_type": "markdown",
   "id": "c884c3df",
   "metadata": {},
   "source": [
    "My looking at the chart, we can infer that the number of games released per year reached its peak around 2008 - 2010. And has been in steady decline each year leading up to 2016."
   ]
  },
  {
   "cell_type": "markdown",
   "id": "75564597",
   "metadata": {},
   "source": [
    "<div class=\"alert alert-success\" style=\"border-radius: 15px; box-shadow: 4px 4px 4px; border: 1px solid \">\n",
    "<h2> Reviewer's comment 2 </h2>\n",
    "    \n",
    "Nice chart!  \n",
    "    \n",
    "</div>\n",
    "<div class=\"alert alert-danger\" style=\"border-radius: 15px; box-shadow: 4px 4px 4px; border: 1px solid \">\n",
    "<b> Reviewer's comment 2</b>\n",
    "    \n",
    "\n",
    "What can be inferred from it?\n",
    "    \n",
    "</div>\n",
    "<div class=\"alert alert-success\" style=\"border-radius: 15px; box-shadow: 4px 4px 4px; border: 1px solid \">\n",
    "<h2> Reviewer's comment 3</h2>\n",
    "    \n",
    "Correct. \n",
    "</div>"
   ]
  },
  {
   "cell_type": "markdown",
   "id": "8cf8af80",
   "metadata": {},
   "source": [
    "### Find Platforms with Greatest Total Sales"
   ]
  },
  {
   "cell_type": "code",
   "execution_count": 15,
   "id": "9b976554-87b7-4532-9712-22b85b58ac5d",
   "metadata": {},
   "outputs": [],
   "source": [
    "p_sales = games.groupby('platform')['total_sales'].sum()\n"
   ]
  },
  {
   "cell_type": "code",
   "execution_count": 16,
   "id": "8fee0459-e370-46a7-85a0-89f4969ab4d3",
   "metadata": {},
   "outputs": [
    {
     "data": {
      "text/plain": [
       "platform\n",
       "PS2     1255.77\n",
       "X360     971.42\n",
       "PS3      939.64\n",
       "Wii      907.51\n",
       "DS       806.12\n",
       "Name: total_sales, dtype: float64"
      ]
     },
     "metadata": {},
     "output_type": "display_data"
    }
   ],
   "source": [
    "top_5 = p_sales.sort_values(ascending=False).head(5)\n",
    "display(top_5)"
   ]
  },
  {
   "cell_type": "markdown",
   "id": "0a983666",
   "metadata": {},
   "source": [
    "### Build Distribution"
   ]
  },
  {
   "cell_type": "code",
   "execution_count": 17,
   "id": "9cd4e36f",
   "metadata": {},
   "outputs": [
    {
     "data": {
      "image/png": "[encoded data removed]",
      "text/plain": [
       "<Figure size 1000x600 with 1 Axes>"
      ]
     },
     "metadata": {},
     "output_type": "display_data"
    }
   ],
   "source": [
    "# Group by platform and sum total sales\n",
    "platform_sales = games.groupby('platform')['total_sales'].sum()\n",
    "\n",
    "# Sort platforms by total sales and select top platforms\n",
    "top_platforms = platform_sales.sort_values(ascending=False).index[:5]\n",
    "\n",
    "# Filter games data for top platforms\n",
    "top_data = games[games['platform'].isin(top_platforms)]\n",
    "\n",
    "# Group by year and platform, and sum total sales\n",
    "yearly_sales_by_platform = top_data[top_data['year_of_release']>= 1970].groupby(['year_of_release', 'platform'])['total_sales'].sum().reset_index()\n",
    "\n",
    "# Plot\n",
    "plt.figure(figsize=(10,6))\n",
    "sns.lineplot(data=yearly_sales_by_platform, x='year_of_release', y='total_sales', hue='platform')\n",
    "plt.title('Yearly Game Sales Distribution for Top Platforms')\n",
    "plt.xlabel('Year of Release')\n",
    "plt.ylabel('Total Sales')\n",
    "plt.show()"
   ]
  },
  {
   "cell_type": "markdown",
   "id": "8779f892",
   "metadata": {},
   "source": [
    "<div class=\"alert alert-danger\" style=\"border-radius: 15px; box-shadow: 4px 4px 4px; border: 1px solid \">\n",
    "<b> Reviewer's comment 2</b>\n",
    "    \n",
    "\n",
    "According to the task    \n",
    "    \n",
    "    Look at how sales varied from platform to platform. Choose the platforms with the greatest total sales and build a distribution based on data for each year. \n",
    "\n",
    "\n",
    "we need to display the distribution of these top platforms. \n",
    "</div>\n",
    "<div class=\"alert alert-success\" style=\"border-radius: 15px; box-shadow: 4px 4px 4px; border: 1px solid \">\n",
    "<h2> Reviewer's comment 3</h2>\n",
    "    \n",
    "Correct! \n",
    "</div>"
   ]
  },
  {
   "cell_type": "markdown",
   "id": "6e2356a9-e293-485c-89a2-42bb588c4466",
   "metadata": {},
   "source": [
    "### Find formerly popular platforms that that now have 0 sales"
   ]
  },
  {
   "cell_type": "markdown",
   "id": "2e054200",
   "metadata": {},
   "source": [
    "Looking at the distribution all of the formerly popular platforms have 0 sales in 2016"
   ]
  },
  {
   "cell_type": "markdown",
   "id": "58d24cc4",
   "metadata": {},
   "source": [
    "<div class=\"alert alert-danger\" style=\"border-radius: 15px; box-shadow: 4px 4px 4px; border: 1px solid \">\n",
    "<b> Reviewer's comment 2</b>\n",
    "    \n",
    "\n",
    "There may be values such as 0.1, 0.2 and so on. Please take the platforms you defined before. Are there any platforms that have zero or lamost zero sales in 2016? In order to answer this and the previous questions, just display the sales distribution. You will notice whether any of the platforms have almost zero sales. \n",
    "</div>\n",
    "<div class=\"alert alert-success\" style=\"border-radius: 15px; box-shadow: 4px 4px 4px; border: 1px solid \">\n",
    "<h2> Reviewer's comment 3</h2>\n",
    "    \n",
    "Agreed. </div>"
   ]
  },
  {
   "cell_type": "markdown",
   "id": "9a162b7e-fff1-40d8-905a-095de9b715ef",
   "metadata": {},
   "source": [
    "### Platform Lifespan"
   ]
  },
  {
   "cell_type": "code",
   "execution_count": 18,
   "id": "ecfa8487-cbd1-4a87-badd-ff740a0143d8",
   "metadata": {},
   "outputs": [],
   "source": [
    "# Find the year each platform was introduced\n",
    "platform_introduction = games.groupby('platform')['year_of_release'].min()\n",
    "\n",
    "# Calculate the difference between introduction years\n",
    "new_platform_frequency = platform_introduction.sort_values().diff().mean()\n",
    "\n",
    "# Find the last year each platform had a game released\n",
    "platform_fade = games.groupby('platform')['year_of_release'].max()\n",
    "\n",
    "# Calculate the difference between fade years\n",
    "platform_fade_frequency = platform_fade.sort_values().diff().mean()\n"
   ]
  },
  {
   "cell_type": "code",
   "execution_count": 19,
   "id": "7b4c7a0c-8fad-4ed1-bd6f-7cd2afd2dbab",
   "metadata": {},
   "outputs": [
    {
     "name": "stdout",
     "output_type": "stream",
     "text": [
      "platform_fade_frequency: 0.9\n"
     ]
    }
   ],
   "source": [
    "print(f\"platform_fade_frequency: {platform_fade_frequency}\")"
   ]
  },
  {
   "cell_type": "markdown",
   "id": "64b18d2d",
   "metadata": {},
   "source": [
    "<div class=\"alert alert-success\" style=\"border-radius: 15px; box-shadow: 4px 4px 4px; border: 1px solid \">\n",
    "<h2> Reviewer's comment 2</h2>\n",
    "    \n",
    "Seems to be true. \n",
    "\n",
    "</div>\n",
    "<div class=\"alert alert-warning\" style=\"border-radius: 15px; box-shadow: 4px 4px 4px; border: 1px solid \">\n",
    "<h2> Reviewer's comment 2</h2>\n",
    "    \n",
    "\n",
    "I'd use only top 5-10 platforms in order to ignore old PC and unlucky platforms that had a 2 years lifespan. \n",
    "</div>"
   ]
  },
  {
   "cell_type": "markdown",
   "id": "0747f803-59e8-4936-8ac0-54f75977ea4a",
   "metadata": {},
   "source": [
    "### Platforms That Lead in Sales"
   ]
  },
  {
   "cell_type": "code",
   "execution_count": 20,
   "id": "b1239090",
   "metadata": {},
   "outputs": [
    {
     "data": {
      "image/png": "[encoded data removed]",
      "text/plain": [
       "<Figure size 640x480 with 1 Axes>"
      ]
     },
     "metadata": {},
     "output_type": "display_data"
    }
   ],
   "source": [
    "relevant_games = games[games['year_of_release'] >= 2012]\n",
    "platform_trend = relevant_games.groupby(['platform', 'year_of_release'])['total_sales'].sum().reset_index()\n",
    "\n",
    "for platform in platform_trend['platform'].unique():\n",
    "    plt.plot(platform_trend[platform_trend['platform'] == platform]['year_of_release'], \n",
    "             platform_trend[platform_trend['platform'] == platform]['total_sales'], \n",
    "             label=platform)\n",
    "plt.xlabel('Year of Release')\n",
    "plt.ylabel('Total Sales')\n",
    "plt.legend()\n",
    "plt.show()"
   ]
  },
  {
   "cell_type": "markdown",
   "id": "0d73cd3b",
   "metadata": {},
   "source": [
    "<div class=\"alert alert-danger\" style=\"border-radius: 15px; box-shadow: 4px 4px 4px; border: 1px solid \">\n",
    "<b> Reviewer's comment</b>\n",
    "    \n",
    "\n",
    "Good choice! However, let's take from at least 2012. In the chart below, you can see that years before 2012 have huge sales volume, which can influence our distributions. Moreover, new platforms appeared in 2012-2013, which means that these huge sales were generated by older platforms that cannot be relevant for so many years.  \n",
    "</div>\n",
    "<div class=\"alert alert-success\" style=\"border-radius: 15px; box-shadow: 4px 4px 4px; border: 1px solid \">\n",
    "<h2> Reviewer's comment 3</h2>\n",
    "    \n",
    "Good. \n",
    "\n",
    "</div>"
   ]
  },
  {
   "cell_type": "code",
   "execution_count": 25,
   "id": "e68a81b6",
   "metadata": {},
   "outputs": [
    {
     "data": {
      "image/png": "[encoded data removed]",
      "text/plain": [
       "<Figure size 1000x500 with 1 Axes>"
      ]
     },
     "metadata": {},
     "output_type": "display_data"
    }
   ],
   "source": [
    "# Reviewer's code 2.1\n",
    "\n",
    "games[games['year_of_release'] >= 2010]['year_of_release'].value_counts().sort_index().plot(kind='bar', figsize=(10,5))\n",
    "plt.title('Number of Games Released Each Year')\n",
    "plt.xlabel('Year of Release')\n",
    "plt.ylabel('Number of Games')\n",
    "plt.show()\n"
   ]
  },
  {
   "cell_type": "code",
   "execution_count": 26,
   "id": "92dcd21c",
   "metadata": {},
   "outputs": [
    {
     "data": {
      "image/png": "[encoded data removed]",
      "text/plain": [
       "<Figure size 1000x500 with 1 Axes>"
      ]
     },
     "metadata": {},
     "output_type": "display_data"
    }
   ],
   "source": [
    "# Reviewer's code 2.2\n",
    "\n",
    "# Here I take more years. It will demonstrate that 2010-2011 sales were indeed huge.\n",
    "\n",
    "games[games['year_of_release'] >= 2005]['year_of_release'].value_counts().sort_index().plot(kind='bar', figsize=(10,5))\n",
    "plt.title('Number of Games Released Each Year')\n",
    "plt.xlabel('Year of Release')\n",
    "plt.ylabel('Number of Games')\n",
    "plt.show()\n"
   ]
  },
  {
   "cell_type": "markdown",
   "id": "38499609-3ce0-4193-9a73-15bbb03a0328",
   "metadata": {},
   "source": [
    "PS4 And XboxONE Are leading in sales. Those two along with 3DS are potentially profitable for the year 2017"
   ]
  },
  {
   "cell_type": "markdown",
   "id": "a45f267b",
   "metadata": {},
   "source": [
    "<div class=\"alert alert-success\" style=\"border-radius: 15px; box-shadow: 4px 4px 4px; border: 1px solid \">\n",
    "<h2> Reviewer's comment 2</h2>\n",
    "    \n",
    "Agreed. I would also take 3DS into account, as it still has a quite large sales volume. Sometimes it is much easier to analyze a simple pivot table: \n",
    "\n",
    "\n",
    "</div>"
   ]
  },
  {
   "cell_type": "code",
   "execution_count": 21,
   "id": "caa3564b",
   "metadata": {},
   "outputs": [
    {
     "data": {
      "text/html": [
       "<div>\n",
       "<style scoped>\n",
       "    .dataframe tbody tr th:only-of-type {\n",
       "        vertical-align: middle;\n",
       "    }\n",
       "\n",
       "    .dataframe tbody tr th {\n",
       "        vertical-align: top;\n",
       "    }\n",
       "\n",
       "    .dataframe thead th {\n",
       "        text-align: right;\n",
       "    }\n",
       "</style>\n",
       "<table border=\"1\" class=\"dataframe\">\n",
       "  <thead>\n",
       "    <tr style=\"text-align: right;\">\n",
       "      <th>platform</th>\n",
       "      <th>3DS</th>\n",
       "      <th>DS</th>\n",
       "      <th>PC</th>\n",
       "      <th>PS3</th>\n",
       "      <th>PS4</th>\n",
       "      <th>PSP</th>\n",
       "      <th>PSV</th>\n",
       "      <th>Wii</th>\n",
       "      <th>WiiU</th>\n",
       "      <th>X360</th>\n",
       "      <th>XOne</th>\n",
       "    </tr>\n",
       "    <tr>\n",
       "      <th>year_of_release</th>\n",
       "      <th></th>\n",
       "      <th></th>\n",
       "      <th></th>\n",
       "      <th></th>\n",
       "      <th></th>\n",
       "      <th></th>\n",
       "      <th></th>\n",
       "      <th></th>\n",
       "      <th></th>\n",
       "      <th></th>\n",
       "      <th></th>\n",
       "    </tr>\n",
       "  </thead>\n",
       "  <tbody>\n",
       "    <tr>\n",
       "      <th>2012</th>\n",
       "      <td>51.36</td>\n",
       "      <td>11.01</td>\n",
       "      <td>23.22</td>\n",
       "      <td>107.35</td>\n",
       "      <td>NaN</td>\n",
       "      <td>7.69</td>\n",
       "      <td>16.19</td>\n",
       "      <td>21.71</td>\n",
       "      <td>17.56</td>\n",
       "      <td>99.74</td>\n",
       "      <td>NaN</td>\n",
       "    </tr>\n",
       "    <tr>\n",
       "      <th>2013</th>\n",
       "      <td>56.57</td>\n",
       "      <td>1.54</td>\n",
       "      <td>12.38</td>\n",
       "      <td>113.25</td>\n",
       "      <td>25.99</td>\n",
       "      <td>3.14</td>\n",
       "      <td>10.59</td>\n",
       "      <td>8.59</td>\n",
       "      <td>21.65</td>\n",
       "      <td>88.58</td>\n",
       "      <td>18.96</td>\n",
       "    </tr>\n",
       "    <tr>\n",
       "      <th>2014</th>\n",
       "      <td>43.76</td>\n",
       "      <td>NaN</td>\n",
       "      <td>13.28</td>\n",
       "      <td>47.76</td>\n",
       "      <td>100.00</td>\n",
       "      <td>0.24</td>\n",
       "      <td>11.90</td>\n",
       "      <td>3.75</td>\n",
       "      <td>22.03</td>\n",
       "      <td>34.74</td>\n",
       "      <td>54.07</td>\n",
       "    </tr>\n",
       "    <tr>\n",
       "      <th>2015</th>\n",
       "      <td>27.78</td>\n",
       "      <td>NaN</td>\n",
       "      <td>8.52</td>\n",
       "      <td>16.82</td>\n",
       "      <td>118.90</td>\n",
       "      <td>0.12</td>\n",
       "      <td>6.25</td>\n",
       "      <td>1.14</td>\n",
       "      <td>16.35</td>\n",
       "      <td>11.96</td>\n",
       "      <td>60.14</td>\n",
       "    </tr>\n",
       "    <tr>\n",
       "      <th>2016</th>\n",
       "      <td>15.14</td>\n",
       "      <td>NaN</td>\n",
       "      <td>5.25</td>\n",
       "      <td>3.60</td>\n",
       "      <td>69.25</td>\n",
       "      <td>NaN</td>\n",
       "      <td>4.25</td>\n",
       "      <td>0.18</td>\n",
       "      <td>4.60</td>\n",
       "      <td>1.52</td>\n",
       "      <td>26.15</td>\n",
       "    </tr>\n",
       "  </tbody>\n",
       "</table>\n",
       "</div>"
      ],
      "text/plain": [
       "platform           3DS     DS     PC     PS3     PS4   PSP    PSV    Wii  \\\n",
       "year_of_release                                                            \n",
       "2012             51.36  11.01  23.22  107.35     NaN  7.69  16.19  21.71   \n",
       "2013             56.57   1.54  12.38  113.25   25.99  3.14  10.59   8.59   \n",
       "2014             43.76    NaN  13.28   47.76  100.00  0.24  11.90   3.75   \n",
       "2015             27.78    NaN   8.52   16.82  118.90  0.12   6.25   1.14   \n",
       "2016             15.14    NaN   5.25    3.60   69.25   NaN   4.25   0.18   \n",
       "\n",
       "platform          WiiU   X360   XOne  \n",
       "year_of_release                       \n",
       "2012             17.56  99.74    NaN  \n",
       "2013             21.65  88.58  18.96  \n",
       "2014             22.03  34.74  54.07  \n",
       "2015             16.35  11.96  60.14  \n",
       "2016              4.60   1.52  26.15  "
      ]
     },
     "execution_count": 21,
     "metadata": {},
     "output_type": "execute_result"
    }
   ],
   "source": [
    "# Reviewer's code 2\n",
    "\n",
    "relevant_games.pivot_table(index='year_of_release', columns='platform', values='total_sales', aggfunc='sum')"
   ]
  },
  {
   "cell_type": "markdown",
   "id": "52cf5c33-08fa-4f8d-b98a-4091edf8948b",
   "metadata": {},
   "source": [
    "### Global Game Sales"
   ]
  },
  {
   "cell_type": "code",
   "execution_count": 28,
   "id": "e5216f19-3853-4f83-b63f-63995cf15985",
   "metadata": {},
   "outputs": [
    {
     "data": {
      "image/png": "[encoded data removed]",
      "text/plain": [
       "<Figure size 1000x600 with 1 Axes>"
      ]
     },
     "metadata": {},
     "output_type": "display_data"
    }
   ],
   "source": [
    "\n",
    "plt.figure(figsize=((10,6)))\n",
    "sns.boxplot(x='platform', y='total_sales',data=relevant_games)\n",
    "plt.title('Total Sales by Platform')\n",
    "plt.ylim(0, relevant_games['total_sales'].max())\n",
    "plt.show()"
   ]
  },
  {
   "cell_type": "markdown",
   "id": "8d2660a6",
   "metadata": {},
   "source": [
    "<div class=\"alert alert-success\" style=\"border-radius: 15px; box-shadow: 4px 4px 4px; border: 1px solid \">\n",
    "<h2> Reviewer's comment 2</h2>\n",
    "    \n",
    "Correct!\n",
    "\n",
    "</div>\n",
    "<div class=\"alert alert-danger\" style=\"border-radius: 15px; box-shadow: 4px 4px 4px; border: 1px solid \">\n",
    "<b> Reviewer's comment 2</b>\n",
    "      \n",
    "    \n",
    "\n",
    "It is difficult to compare the boxes. Please, try to use the **ylim**, it will scale the graph. \n",
    "    \n",
    "</div>\n",
    "<div class=\"alert alert-warning\" style=\"border-radius: 15px; box-shadow: 4px 4px 4px; border: 1px solid \">\n",
    "<h2> Reviewer's comment 3</h2>\n",
    "    \n",
    "I would specify the exact value:</div>"
   ]
  },
  {
   "cell_type": "code",
   "execution_count": 22,
   "id": "5455bce1",
   "metadata": {},
   "outputs": [
    {
     "data": {
      "text/plain": [
       "(0.0, 3.0)"
      ]
     },
     "execution_count": 22,
     "metadata": {},
     "output_type": "execute_result"
    },
    {
     "data": {
      "image/png": "[encoded data removed]",
      "text/plain": [
       "<Figure size 1200x700 with 1 Axes>"
      ]
     },
     "metadata": {},
     "output_type": "display_data"
    }
   ],
   "source": [
    "# Reviewer's code 3\n",
    "\n",
    "relevant_games.boxplot('total_sales', by='platform', figsize=(12,7))\n",
    "plt.ylim(0,3)"
   ]
  },
  {
   "cell_type": "markdown",
   "id": "90a467e6-851d-47c4-aa35-4688b5611617",
   "metadata": {},
   "source": [
    "- **X360**: This platform has a wide interquartile range with many outliers, indicating high variability in sales. Several games have very high sales figures.\n",
    "- **PS3**: Follows a similar pattern to X360 but with slightly fewer outliers.\n",
    "- **DS**: Shows many outliers on both ends, indicating some games with very low and very high sales.\n",
    "- **PS4**: Has fewer outliers than X360 or PS3 but still shows some games with high total sales.\n",
    "- **3DS**: Has a more compact interquartile range compared to previous platforms mentioned but also presents several high-selling game outliers.\n",
    "- **Wii**: The distribution is quite tight around its median; however, it also features some extreme high-selling game outliers.\n",
    "- **xOne**: The box plot is similar to that of PS4 but with even fewer outliers, suggesting less variability in game sales on this platform.\n",
    "- **WiiU**: Has few outliers, indicating most games have similar sales figures close to its median value, which is lower than those for other newer generation consoles like xOne or PS4.\n",
    "- **PC**: Shows a tight distribution around its median without extreme values or significant outliers, suggesting consistent yet modest game sale figures across titles on this platform.\n",
    "- **PSP**: The data points are tightly packed near its lower quartile with no significant outlier, which indicates generally low sale numbers for games on this platform compared to others in this graph.\n",
    "- **PSVita**: Displays a very tight interquartile range near its lower end without any notable outlier, suggesting consistently low game sale numbers as well.\n",
    "- **PS2**: Shows an extremely tight distribution at what appears to be zero or near-zero total sales, which could indicate it being an older console with no recent significant game sale."
   ]
  },
  {
   "cell_type": "markdown",
   "id": "9b5a3dd5",
   "metadata": {},
   "source": [
    "<div class=\"alert alert-success\" style=\"border-radius: 15px; box-shadow: 4px 4px 4px; border: 1px solid \">\n",
    "<h2> Reviewer's comment 2</h2>\n",
    "    \n",
    "\n",
    "Very good! We deal with sum sales, so the outliers are just some popular games that were sold in huge volumes, which means that they are quite common. I would even say bestsellers. And this is a very illustrative thing. Look at the 3DS. Small box and lots of outliers. This suggests that a large part of the sales volume comes from these outliers. At the same time, the XOne has a different situation: a large box, a long whisker and few outliers. That indicates that a wide variety of games are bought on XOne, and, moreover, in considerable quantities.\n",
    "\n",
    "</div>\n"
   ]
  },
  {
   "cell_type": "markdown",
   "id": "eb60aaf1-1488-4583-af2f-e3d3c6c18b0d",
   "metadata": {},
   "source": [
    "### Average Sales By Platform"
   ]
  },
  {
   "cell_type": "code",
   "execution_count": 23,
   "id": "63bd4aa2-6687-40c5-a6b2-49485b19907a",
   "metadata": {},
   "outputs": [
    {
     "name": "stdout",
     "output_type": "stream",
     "text": [
      "platform\n",
      "3DS     0.491439\n",
      "DS      0.404839\n",
      "PC      0.250600\n",
      "PS3     0.586951\n",
      "PS4     0.801378\n",
      "PSP     0.064682\n",
      "PSV     0.119659\n",
      "Wii     0.655000\n",
      "WiiU    0.559116\n",
      "X360    0.810068\n",
      "XOne    0.645020\n",
      "Name: total_sales, dtype: float64\n"
     ]
    }
   ],
   "source": [
    "avg_sales = relevant_games.groupby('platform')['total_sales'].mean()\n",
    "print(avg_sales)"
   ]
  },
  {
   "cell_type": "code",
   "execution_count": 31,
   "id": "c52a8da2-9a7c-4b66-af7b-94b4d0f9632a",
   "metadata": {
    "scrolled": true
   },
   "outputs": [
    {
     "data": {
      "text/html": [
       "<div>\n",
       "<style scoped>\n",
       "    .dataframe tbody tr th:only-of-type {\n",
       "        vertical-align: middle;\n",
       "    }\n",
       "\n",
       "    .dataframe tbody tr th {\n",
       "        vertical-align: top;\n",
       "    }\n",
       "\n",
       "    .dataframe thead th {\n",
       "        text-align: right;\n",
       "    }\n",
       "</style>\n",
       "<table border=\"1\" class=\"dataframe\">\n",
       "  <thead>\n",
       "    <tr style=\"text-align: right;\">\n",
       "      <th></th>\n",
       "      <th>name</th>\n",
       "      <th>platform</th>\n",
       "      <th>year_of_release</th>\n",
       "      <th>genre</th>\n",
       "      <th>na_sales</th>\n",
       "      <th>eu_sales</th>\n",
       "      <th>jp_sales</th>\n",
       "      <th>other_sales</th>\n",
       "      <th>critic_score</th>\n",
       "      <th>user_score</th>\n",
       "      <th>rating</th>\n",
       "      <th>total_sales</th>\n",
       "    </tr>\n",
       "  </thead>\n",
       "  <tbody>\n",
       "    <tr>\n",
       "      <th>16</th>\n",
       "      <td>Grand Theft Auto V</td>\n",
       "      <td>PS3</td>\n",
       "      <td>2013</td>\n",
       "      <td>Action</td>\n",
       "      <td>7.02</td>\n",
       "      <td>9.09</td>\n",
       "      <td>0.98</td>\n",
       "      <td>3.96</td>\n",
       "      <td>97.0</td>\n",
       "      <td>8.2</td>\n",
       "      <td>M</td>\n",
       "      <td>21.05</td>\n",
       "    </tr>\n",
       "    <tr>\n",
       "      <th>23</th>\n",
       "      <td>Grand Theft Auto V</td>\n",
       "      <td>X360</td>\n",
       "      <td>2013</td>\n",
       "      <td>Action</td>\n",
       "      <td>9.66</td>\n",
       "      <td>5.14</td>\n",
       "      <td>0.06</td>\n",
       "      <td>1.41</td>\n",
       "      <td>97.0</td>\n",
       "      <td>8.1</td>\n",
       "      <td>M</td>\n",
       "      <td>16.27</td>\n",
       "    </tr>\n",
       "    <tr>\n",
       "      <th>31</th>\n",
       "      <td>Call of Duty: Black Ops 3</td>\n",
       "      <td>PS4</td>\n",
       "      <td>2015</td>\n",
       "      <td>Shooter</td>\n",
       "      <td>6.03</td>\n",
       "      <td>5.86</td>\n",
       "      <td>0.36</td>\n",
       "      <td>2.38</td>\n",
       "      <td>0.0</td>\n",
       "      <td>0.0</td>\n",
       "      <td>NaN</td>\n",
       "      <td>14.63</td>\n",
       "    </tr>\n",
       "    <tr>\n",
       "      <th>33</th>\n",
       "      <td>Pokemon X/Pokemon Y</td>\n",
       "      <td>3DS</td>\n",
       "      <td>2013</td>\n",
       "      <td>Role-Playing</td>\n",
       "      <td>5.28</td>\n",
       "      <td>4.19</td>\n",
       "      <td>4.35</td>\n",
       "      <td>0.78</td>\n",
       "      <td>0.0</td>\n",
       "      <td>0.0</td>\n",
       "      <td>NaN</td>\n",
       "      <td>14.60</td>\n",
       "    </tr>\n",
       "    <tr>\n",
       "      <th>34</th>\n",
       "      <td>Call of Duty: Black Ops II</td>\n",
       "      <td>PS3</td>\n",
       "      <td>2012</td>\n",
       "      <td>Shooter</td>\n",
       "      <td>4.99</td>\n",
       "      <td>5.73</td>\n",
       "      <td>0.65</td>\n",
       "      <td>2.42</td>\n",
       "      <td>83.0</td>\n",
       "      <td>5.3</td>\n",
       "      <td>M</td>\n",
       "      <td>13.79</td>\n",
       "    </tr>\n",
       "    <tr>\n",
       "      <th>35</th>\n",
       "      <td>Call of Duty: Black Ops II</td>\n",
       "      <td>X360</td>\n",
       "      <td>2012</td>\n",
       "      <td>Shooter</td>\n",
       "      <td>8.25</td>\n",
       "      <td>4.24</td>\n",
       "      <td>0.07</td>\n",
       "      <td>1.12</td>\n",
       "      <td>83.0</td>\n",
       "      <td>4.8</td>\n",
       "      <td>M</td>\n",
       "      <td>13.68</td>\n",
       "    </tr>\n",
       "    <tr>\n",
       "      <th>42</th>\n",
       "      <td>Grand Theft Auto V</td>\n",
       "      <td>PS4</td>\n",
       "      <td>2014</td>\n",
       "      <td>Action</td>\n",
       "      <td>3.96</td>\n",
       "      <td>6.31</td>\n",
       "      <td>0.38</td>\n",
       "      <td>1.97</td>\n",
       "      <td>97.0</td>\n",
       "      <td>8.3</td>\n",
       "      <td>M</td>\n",
       "      <td>12.62</td>\n",
       "    </tr>\n",
       "    <tr>\n",
       "      <th>47</th>\n",
       "      <td>Pokemon Omega Ruby/Pokemon Alpha Sapphire</td>\n",
       "      <td>3DS</td>\n",
       "      <td>2014</td>\n",
       "      <td>Role-Playing</td>\n",
       "      <td>4.35</td>\n",
       "      <td>3.49</td>\n",
       "      <td>3.10</td>\n",
       "      <td>0.74</td>\n",
       "      <td>0.0</td>\n",
       "      <td>0.0</td>\n",
       "      <td>NaN</td>\n",
       "      <td>11.68</td>\n",
       "    </tr>\n",
       "    <tr>\n",
       "      <th>60</th>\n",
       "      <td>Call of Duty: Ghosts</td>\n",
       "      <td>X360</td>\n",
       "      <td>2013</td>\n",
       "      <td>Shooter</td>\n",
       "      <td>6.73</td>\n",
       "      <td>2.56</td>\n",
       "      <td>0.04</td>\n",
       "      <td>0.91</td>\n",
       "      <td>73.0</td>\n",
       "      <td>2.6</td>\n",
       "      <td>M</td>\n",
       "      <td>10.24</td>\n",
       "    </tr>\n",
       "    <tr>\n",
       "      <th>62</th>\n",
       "      <td>New Super Mario Bros. 2</td>\n",
       "      <td>3DS</td>\n",
       "      <td>2012</td>\n",
       "      <td>Platform</td>\n",
       "      <td>3.66</td>\n",
       "      <td>3.14</td>\n",
       "      <td>2.47</td>\n",
       "      <td>0.63</td>\n",
       "      <td>78.0</td>\n",
       "      <td>7.2</td>\n",
       "      <td>E</td>\n",
       "      <td>9.90</td>\n",
       "    </tr>\n",
       "    <tr>\n",
       "      <th>66</th>\n",
       "      <td>Halo 4</td>\n",
       "      <td>X360</td>\n",
       "      <td>2012</td>\n",
       "      <td>Shooter</td>\n",
       "      <td>6.65</td>\n",
       "      <td>2.28</td>\n",
       "      <td>0.04</td>\n",
       "      <td>0.74</td>\n",
       "      <td>87.0</td>\n",
       "      <td>7.0</td>\n",
       "      <td>M</td>\n",
       "      <td>9.71</td>\n",
       "    </tr>\n",
       "    <tr>\n",
       "      <th>69</th>\n",
       "      <td>Call of Duty: Ghosts</td>\n",
       "      <td>PS3</td>\n",
       "      <td>2013</td>\n",
       "      <td>Shooter</td>\n",
       "      <td>4.10</td>\n",
       "      <td>3.63</td>\n",
       "      <td>0.38</td>\n",
       "      <td>1.25</td>\n",
       "      <td>71.0</td>\n",
       "      <td>2.6</td>\n",
       "      <td>M</td>\n",
       "      <td>9.36</td>\n",
       "    </tr>\n",
       "    <tr>\n",
       "      <th>72</th>\n",
       "      <td>Minecraft</td>\n",
       "      <td>X360</td>\n",
       "      <td>2013</td>\n",
       "      <td>Misc</td>\n",
       "      <td>5.70</td>\n",
       "      <td>2.65</td>\n",
       "      <td>0.02</td>\n",
       "      <td>0.81</td>\n",
       "      <td>0.0</td>\n",
       "      <td>0.0</td>\n",
       "      <td>NaN</td>\n",
       "      <td>9.18</td>\n",
       "    </tr>\n",
       "    <tr>\n",
       "      <th>73</th>\n",
       "      <td>Animal Crossing: New Leaf</td>\n",
       "      <td>3DS</td>\n",
       "      <td>2012</td>\n",
       "      <td>Simulation</td>\n",
       "      <td>2.03</td>\n",
       "      <td>2.36</td>\n",
       "      <td>4.39</td>\n",
       "      <td>0.39</td>\n",
       "      <td>88.0</td>\n",
       "      <td>8.7</td>\n",
       "      <td>E</td>\n",
       "      <td>9.17</td>\n",
       "    </tr>\n",
       "    <tr>\n",
       "      <th>77</th>\n",
       "      <td>FIFA 16</td>\n",
       "      <td>PS4</td>\n",
       "      <td>2015</td>\n",
       "      <td>Sports</td>\n",
       "      <td>1.12</td>\n",
       "      <td>6.12</td>\n",
       "      <td>0.06</td>\n",
       "      <td>1.28</td>\n",
       "      <td>82.0</td>\n",
       "      <td>4.3</td>\n",
       "      <td>E</td>\n",
       "      <td>8.58</td>\n",
       "    </tr>\n",
       "    <tr>\n",
       "      <th>81</th>\n",
       "      <td>FIFA Soccer 13</td>\n",
       "      <td>PS3</td>\n",
       "      <td>2012</td>\n",
       "      <td>Action</td>\n",
       "      <td>1.06</td>\n",
       "      <td>5.01</td>\n",
       "      <td>0.13</td>\n",
       "      <td>1.97</td>\n",
       "      <td>88.0</td>\n",
       "      <td>6.6</td>\n",
       "      <td>E</td>\n",
       "      <td>8.17</td>\n",
       "    </tr>\n",
       "    <tr>\n",
       "      <th>83</th>\n",
       "      <td>Pokemon Black 2/Pokemon White 2</td>\n",
       "      <td>DS</td>\n",
       "      <td>2012</td>\n",
       "      <td>Role-Playing</td>\n",
       "      <td>2.79</td>\n",
       "      <td>1.72</td>\n",
       "      <td>3.14</td>\n",
       "      <td>0.41</td>\n",
       "      <td>0.0</td>\n",
       "      <td>0.0</td>\n",
       "      <td>NaN</td>\n",
       "      <td>8.06</td>\n",
       "    </tr>\n",
       "    <tr>\n",
       "      <th>87</th>\n",
       "      <td>Star Wars Battlefront (2015)</td>\n",
       "      <td>PS4</td>\n",
       "      <td>2015</td>\n",
       "      <td>Shooter</td>\n",
       "      <td>2.99</td>\n",
       "      <td>3.49</td>\n",
       "      <td>0.22</td>\n",
       "      <td>1.28</td>\n",
       "      <td>0.0</td>\n",
       "      <td>0.0</td>\n",
       "      <td>NaN</td>\n",
       "      <td>7.98</td>\n",
       "    </tr>\n",
       "    <tr>\n",
       "      <th>92</th>\n",
       "      <td>Call of Duty: Advanced Warfare</td>\n",
       "      <td>PS4</td>\n",
       "      <td>2014</td>\n",
       "      <td>Shooter</td>\n",
       "      <td>2.81</td>\n",
       "      <td>3.48</td>\n",
       "      <td>0.14</td>\n",
       "      <td>1.23</td>\n",
       "      <td>83.0</td>\n",
       "      <td>5.7</td>\n",
       "      <td>M</td>\n",
       "      <td>7.66</td>\n",
       "    </tr>\n",
       "    <tr>\n",
       "      <th>94</th>\n",
       "      <td>FIFA 17</td>\n",
       "      <td>PS4</td>\n",
       "      <td>2016</td>\n",
       "      <td>Sports</td>\n",
       "      <td>0.66</td>\n",
       "      <td>5.75</td>\n",
       "      <td>0.08</td>\n",
       "      <td>1.11</td>\n",
       "      <td>85.0</td>\n",
       "      <td>5.0</td>\n",
       "      <td>E</td>\n",
       "      <td>7.60</td>\n",
       "    </tr>\n",
       "  </tbody>\n",
       "</table>\n",
       "</div>"
      ],
      "text/plain": [
       "                                         name platform  year_of_release  \\\n",
       "16                         Grand Theft Auto V      PS3             2013   \n",
       "23                         Grand Theft Auto V     X360             2013   \n",
       "31                  Call of Duty: Black Ops 3      PS4             2015   \n",
       "33                        Pokemon X/Pokemon Y      3DS             2013   \n",
       "34                 Call of Duty: Black Ops II      PS3             2012   \n",
       "35                 Call of Duty: Black Ops II     X360             2012   \n",
       "42                         Grand Theft Auto V      PS4             2014   \n",
       "47  Pokemon Omega Ruby/Pokemon Alpha Sapphire      3DS             2014   \n",
       "60                       Call of Duty: Ghosts     X360             2013   \n",
       "62                    New Super Mario Bros. 2      3DS             2012   \n",
       "66                                     Halo 4     X360             2012   \n",
       "69                       Call of Duty: Ghosts      PS3             2013   \n",
       "72                                  Minecraft     X360             2013   \n",
       "73                  Animal Crossing: New Leaf      3DS             2012   \n",
       "77                                    FIFA 16      PS4             2015   \n",
       "81                             FIFA Soccer 13      PS3             2012   \n",
       "83            Pokemon Black 2/Pokemon White 2       DS             2012   \n",
       "87               Star Wars Battlefront (2015)      PS4             2015   \n",
       "92             Call of Duty: Advanced Warfare      PS4             2014   \n",
       "94                                    FIFA 17      PS4             2016   \n",
       "\n",
       "           genre  na_sales  eu_sales  jp_sales  other_sales  critic_score  \\\n",
       "16        Action      7.02      9.09      0.98         3.96          97.0   \n",
       "23        Action      9.66      5.14      0.06         1.41          97.0   \n",
       "31       Shooter      6.03      5.86      0.36         2.38           0.0   \n",
       "33  Role-Playing      5.28      4.19      4.35         0.78           0.0   \n",
       "34       Shooter      4.99      5.73      0.65         2.42          83.0   \n",
       "35       Shooter      8.25      4.24      0.07         1.12          83.0   \n",
       "42        Action      3.96      6.31      0.38         1.97          97.0   \n",
       "47  Role-Playing      4.35      3.49      3.10         0.74           0.0   \n",
       "60       Shooter      6.73      2.56      0.04         0.91          73.0   \n",
       "62      Platform      3.66      3.14      2.47         0.63          78.0   \n",
       "66       Shooter      6.65      2.28      0.04         0.74          87.0   \n",
       "69       Shooter      4.10      3.63      0.38         1.25          71.0   \n",
       "72          Misc      5.70      2.65      0.02         0.81           0.0   \n",
       "73    Simulation      2.03      2.36      4.39         0.39          88.0   \n",
       "77        Sports      1.12      6.12      0.06         1.28          82.0   \n",
       "81        Action      1.06      5.01      0.13         1.97          88.0   \n",
       "83  Role-Playing      2.79      1.72      3.14         0.41           0.0   \n",
       "87       Shooter      2.99      3.49      0.22         1.28           0.0   \n",
       "92       Shooter      2.81      3.48      0.14         1.23          83.0   \n",
       "94        Sports      0.66      5.75      0.08         1.11          85.0   \n",
       "\n",
       "    user_score rating  total_sales  \n",
       "16         8.2      M        21.05  \n",
       "23         8.1      M        16.27  \n",
       "31         0.0    NaN        14.63  \n",
       "33         0.0    NaN        14.60  \n",
       "34         5.3      M        13.79  \n",
       "35         4.8      M        13.68  \n",
       "42         8.3      M        12.62  \n",
       "47         0.0    NaN        11.68  \n",
       "60         2.6      M        10.24  \n",
       "62         7.2      E         9.90  \n",
       "66         7.0      M         9.71  \n",
       "69         2.6      M         9.36  \n",
       "72         0.0    NaN         9.18  \n",
       "73         8.7      E         9.17  \n",
       "77         4.3      E         8.58  \n",
       "81         6.6      E         8.17  \n",
       "83         0.0    NaN         8.06  \n",
       "87         0.0    NaN         7.98  \n",
       "92         5.7      M         7.66  \n",
       "94         5.0      E         7.60  "
      ]
     },
     "execution_count": 31,
     "metadata": {},
     "output_type": "execute_result"
    }
   ],
   "source": [
    "relevant_games.head(20)"
   ]
  },
  {
   "cell_type": "markdown",
   "id": "99ac684a-6c00-4cab-a6d1-b577e4257788",
   "metadata": {},
   "source": [
    "### Reviews vs. Sales"
   ]
  },
  {
   "cell_type": "markdown",
   "id": "bcfb76ec",
   "metadata": {},
   "source": [
    "<div class=\"alert alert-danger\" style=\"border-radius: 15px; box-shadow: 4px 4px 4px; border: 1px solid \">\n",
    "<b> Reviewer's comment 2</b>\n",
    "    \n",
    "\n",
    "Please use the dataframe with the relevant years :)\n",
    "</div>\n",
    "<div class=\"alert alert-danger\" style=\"border-radius: 15px; box-shadow: 4px 4px 4px; border: 1px solid \">\n",
    "<b> Reviewer's comment 3</b>\n",
    "    \n",
    "\n",
    "Relevant dataframe (`relevant_games`) is not used.\n",
    "\n",
    "</div>\n",
    "<div class=\"alert alert-success\" style=\"border-radius: 15px; box-shadow: 4px 4px 4px; border: 1px solid \">\n",
    "<h2> Reviewer's comment 4 </h2>\n",
    "    \n",
    "Correct! \n",
    "    \n",
    "</div>"
   ]
  },
  {
   "cell_type": "code",
   "execution_count": 24,
   "id": "2b6d6b55-e533-47d7-a616-a6ae25a720f1",
   "metadata": {},
   "outputs": [],
   "source": [
    "#filter data for chosen platform in this case it's 'XBOX360'\n",
    "\n",
    "x360 = relevant_games[relevant_games['platform'] == 'X360']\n",
    "\n",
    "#remove rows with missing critic_score or user_score\n",
    "x360_critics = x360.dropna(subset=['critic_score'])\n",
    "x360_users = x360.dropna(subset=['user_score'])\n",
    "\n",
    "# remove rows where critic_score or user_score is zero\n",
    "x360_critics = x360[x360['critic_score'] != 0]\n",
    "x360_users = x360[x360['user_score'] != 0]\n"
   ]
  },
  {
   "cell_type": "markdown",
   "id": "153c3916",
   "metadata": {},
   "source": [
    "<div class=\"alert alert-warning\" style=\"border-radius: 15px; box-shadow: 4px 4px 4px; border: 1px solid \">\n",
    "<h2> Reviewer's comment 2</h2>\n",
    "    \n",
    "    \n",
    "There are rows that have users' scores and do not have critics' score and vice versa. If you delete rows that have Nan in any of these two columns, you may lose data. Try to create separate dataframes here: one for critics' scores analysis and one for users' scores analysis. \n",
    "\n",
    "</div>\n",
    "<div class=\"alert alert-danger\" style=\"border-radius: 15px; box-shadow: 4px 4px 4px; border: 1px solid \">\n",
    "<b> Reviewer's comment 2</b>\n",
    "    \n",
    "\n",
    "What is more important, Nan-s were replaced with zeros. We definitely should exclude zeros, since they influence the correlation coefficients. \n",
    "\n",
    "</div>\n"
   ]
  },
  {
   "cell_type": "code",
   "execution_count": 25,
   "id": "7b9d3729",
   "metadata": {
    "scrolled": true
   },
   "outputs": [
    {
     "data": {
      "image/png": "[encoded data removed]",
      "text/plain": [
       "<Figure size 2000x500 with 2 Axes>"
      ]
     },
     "metadata": {},
     "output_type": "display_data"
    }
   ],
   "source": [
    "#plotting the data\n",
    "plt.figure(figsize=(20, 5))\n",
    "\n",
    "#Critic Score vs Total Sales\n",
    "plt.subplot(1,2,1)\n",
    "plt.scatter(x360_critics['critic_score'], x360_critics['total_sales'])\n",
    "plt.title('Critic Score vs Total Sales')\n",
    "plt.xlabel('Critic Score')\n",
    "plt.ylabel('Total Sales')\n",
    "\n",
    "#User Score vs Total Sales\n",
    "plt.subplot(1,2,2)\n",
    "plt.scatter(x360_users['user_score'], x360_users['total_sales'])\n",
    "plt.title('User Score vs Total Sales')\n",
    "plt.xlabel('User Score')\n",
    "plt.ylabel('Total Sales')\n",
    "\n",
    "plt.show()"
   ]
  },
  {
   "cell_type": "code",
   "execution_count": 34,
   "id": "01e3c65c",
   "metadata": {},
   "outputs": [
    {
     "name": "stdout",
     "output_type": "stream",
     "text": [
      "correlation_critic: 0.3937358653072588\n",
      "correlation_user: 0.11445882978454185\n"
     ]
    }
   ],
   "source": [
    "correlation_critic = x360_critics['critic_score'].corr(x360_critics['total_sales'])\n",
    "correlation_user = x360_users['user_score'].corr(x360_users['total_sales'])\n",
    "\n",
    "print(f\"correlation_critic: {correlation_critic}\")\n",
    "print(f\"correlation_user: {correlation_user}\")"
   ]
  },
  {
   "cell_type": "markdown",
   "id": "a9992396",
   "metadata": {},
   "source": [
    "<div class=\"alert alert-warning\" style=\"border-radius: 15px; box-shadow: 4px 4px 4px; border: 1px solid \">\n",
    "<b> Reviewer's comment 2</b>\n",
    "    \n",
    "    \n",
    "Here you can see that zeros were not excluded. \n",
    "    \n",
    "    \n",
    "</div>\n",
    "<div class=\"alert alert-danger\" style=\"border-radius: 15px; box-shadow: 4px 4px 4px; border: 1px solid \">\n",
    "<b> Reviewer's comment 2</b>\n",
    "    \n",
    "\n",
    "- Would you add a chart with users' scores?\n",
    "    \n",
    "    \n",
    "- Please do not forget to print the coefficients :)\n",
    "</div>\n",
    "<div class=\"alert alert-success\" style=\"border-radius: 15px; box-shadow: 4px 4px 4px; border: 1px solid \">\n",
    "<h2> Reviewer's comment 3</h2>\n",
    "    \n",
    "\n",
    "Good.\n",
    "    \n",
    "</div>\n"
   ]
  },
  {
   "cell_type": "markdown",
   "id": "27158344-877d-4a04-a481-172c023af4dc",
   "metadata": {},
   "source": [
    "In this case, correlation does not imply causation. If there’s a high correlation, it means that games with higher scores tend to have higher sales, but it doesn’t necessarily mean that higher scores cause higher sales. There might be other factors at play. For example, it could be that better games both sell more copies and receive higher scores."
   ]
  },
  {
   "cell_type": "markdown",
   "id": "ee4673bc-c4f4-4b6a-a785-1b734ae8fbad",
   "metadata": {},
   "source": [
    "# Compare Same Games on other Platforms"
   ]
  },
  {
   "cell_type": "code",
   "execution_count": 26,
   "id": "f40cbf2e-d550-446e-9d35-c59649ffc595",
   "metadata": {},
   "outputs": [
    {
     "data": {
      "text/html": [
       "<div>\n",
       "<style scoped>\n",
       "    .dataframe tbody tr th:only-of-type {\n",
       "        vertical-align: middle;\n",
       "    }\n",
       "\n",
       "    .dataframe tbody tr th {\n",
       "        vertical-align: top;\n",
       "    }\n",
       "\n",
       "    .dataframe thead th {\n",
       "        text-align: right;\n",
       "    }\n",
       "</style>\n",
       "<table border=\"1\" class=\"dataframe\">\n",
       "  <thead>\n",
       "    <tr style=\"text-align: right;\">\n",
       "      <th></th>\n",
       "      <th>name</th>\n",
       "      <th>platform</th>\n",
       "      <th>year_of_release</th>\n",
       "      <th>genre</th>\n",
       "      <th>na_sales</th>\n",
       "      <th>eu_sales</th>\n",
       "      <th>jp_sales</th>\n",
       "      <th>other_sales</th>\n",
       "      <th>critic_score</th>\n",
       "      <th>user_score</th>\n",
       "      <th>rating</th>\n",
       "      <th>total_sales</th>\n",
       "    </tr>\n",
       "  </thead>\n",
       "  <tbody>\n",
       "    <tr>\n",
       "      <th>16</th>\n",
       "      <td>Grand Theft Auto V</td>\n",
       "      <td>PS3</td>\n",
       "      <td>2013</td>\n",
       "      <td>Action</td>\n",
       "      <td>7.02</td>\n",
       "      <td>9.09</td>\n",
       "      <td>0.98</td>\n",
       "      <td>3.96</td>\n",
       "      <td>97.0</td>\n",
       "      <td>8.2</td>\n",
       "      <td>M</td>\n",
       "      <td>21.05</td>\n",
       "    </tr>\n",
       "    <tr>\n",
       "      <th>23</th>\n",
       "      <td>Grand Theft Auto V</td>\n",
       "      <td>X360</td>\n",
       "      <td>2013</td>\n",
       "      <td>Action</td>\n",
       "      <td>9.66</td>\n",
       "      <td>5.14</td>\n",
       "      <td>0.06</td>\n",
       "      <td>1.41</td>\n",
       "      <td>97.0</td>\n",
       "      <td>8.1</td>\n",
       "      <td>M</td>\n",
       "      <td>16.27</td>\n",
       "    </tr>\n",
       "    <tr>\n",
       "      <th>31</th>\n",
       "      <td>Call of Duty: Black Ops 3</td>\n",
       "      <td>PS4</td>\n",
       "      <td>2015</td>\n",
       "      <td>Shooter</td>\n",
       "      <td>6.03</td>\n",
       "      <td>5.86</td>\n",
       "      <td>0.36</td>\n",
       "      <td>2.38</td>\n",
       "      <td>0.0</td>\n",
       "      <td>0.0</td>\n",
       "      <td>NaN</td>\n",
       "      <td>14.63</td>\n",
       "    </tr>\n",
       "    <tr>\n",
       "      <th>33</th>\n",
       "      <td>Pokemon X/Pokemon Y</td>\n",
       "      <td>3DS</td>\n",
       "      <td>2013</td>\n",
       "      <td>Role-Playing</td>\n",
       "      <td>5.28</td>\n",
       "      <td>4.19</td>\n",
       "      <td>4.35</td>\n",
       "      <td>0.78</td>\n",
       "      <td>0.0</td>\n",
       "      <td>0.0</td>\n",
       "      <td>NaN</td>\n",
       "      <td>14.60</td>\n",
       "    </tr>\n",
       "    <tr>\n",
       "      <th>34</th>\n",
       "      <td>Call of Duty: Black Ops II</td>\n",
       "      <td>PS3</td>\n",
       "      <td>2012</td>\n",
       "      <td>Shooter</td>\n",
       "      <td>4.99</td>\n",
       "      <td>5.73</td>\n",
       "      <td>0.65</td>\n",
       "      <td>2.42</td>\n",
       "      <td>83.0</td>\n",
       "      <td>5.3</td>\n",
       "      <td>M</td>\n",
       "      <td>13.79</td>\n",
       "    </tr>\n",
       "    <tr>\n",
       "      <th>35</th>\n",
       "      <td>Call of Duty: Black Ops II</td>\n",
       "      <td>X360</td>\n",
       "      <td>2012</td>\n",
       "      <td>Shooter</td>\n",
       "      <td>8.25</td>\n",
       "      <td>4.24</td>\n",
       "      <td>0.07</td>\n",
       "      <td>1.12</td>\n",
       "      <td>83.0</td>\n",
       "      <td>4.8</td>\n",
       "      <td>M</td>\n",
       "      <td>13.68</td>\n",
       "    </tr>\n",
       "    <tr>\n",
       "      <th>42</th>\n",
       "      <td>Grand Theft Auto V</td>\n",
       "      <td>PS4</td>\n",
       "      <td>2014</td>\n",
       "      <td>Action</td>\n",
       "      <td>3.96</td>\n",
       "      <td>6.31</td>\n",
       "      <td>0.38</td>\n",
       "      <td>1.97</td>\n",
       "      <td>97.0</td>\n",
       "      <td>8.3</td>\n",
       "      <td>M</td>\n",
       "      <td>12.62</td>\n",
       "    </tr>\n",
       "    <tr>\n",
       "      <th>47</th>\n",
       "      <td>Pokemon Omega Ruby/Pokemon Alpha Sapphire</td>\n",
       "      <td>3DS</td>\n",
       "      <td>2014</td>\n",
       "      <td>Role-Playing</td>\n",
       "      <td>4.35</td>\n",
       "      <td>3.49</td>\n",
       "      <td>3.10</td>\n",
       "      <td>0.74</td>\n",
       "      <td>0.0</td>\n",
       "      <td>0.0</td>\n",
       "      <td>NaN</td>\n",
       "      <td>11.68</td>\n",
       "    </tr>\n",
       "    <tr>\n",
       "      <th>60</th>\n",
       "      <td>Call of Duty: Ghosts</td>\n",
       "      <td>X360</td>\n",
       "      <td>2013</td>\n",
       "      <td>Shooter</td>\n",
       "      <td>6.73</td>\n",
       "      <td>2.56</td>\n",
       "      <td>0.04</td>\n",
       "      <td>0.91</td>\n",
       "      <td>73.0</td>\n",
       "      <td>2.6</td>\n",
       "      <td>M</td>\n",
       "      <td>10.24</td>\n",
       "    </tr>\n",
       "    <tr>\n",
       "      <th>62</th>\n",
       "      <td>New Super Mario Bros. 2</td>\n",
       "      <td>3DS</td>\n",
       "      <td>2012</td>\n",
       "      <td>Platform</td>\n",
       "      <td>3.66</td>\n",
       "      <td>3.14</td>\n",
       "      <td>2.47</td>\n",
       "      <td>0.63</td>\n",
       "      <td>78.0</td>\n",
       "      <td>7.2</td>\n",
       "      <td>E</td>\n",
       "      <td>9.90</td>\n",
       "    </tr>\n",
       "    <tr>\n",
       "      <th>66</th>\n",
       "      <td>Halo 4</td>\n",
       "      <td>X360</td>\n",
       "      <td>2012</td>\n",
       "      <td>Shooter</td>\n",
       "      <td>6.65</td>\n",
       "      <td>2.28</td>\n",
       "      <td>0.04</td>\n",
       "      <td>0.74</td>\n",
       "      <td>87.0</td>\n",
       "      <td>7.0</td>\n",
       "      <td>M</td>\n",
       "      <td>9.71</td>\n",
       "    </tr>\n",
       "    <tr>\n",
       "      <th>69</th>\n",
       "      <td>Call of Duty: Ghosts</td>\n",
       "      <td>PS3</td>\n",
       "      <td>2013</td>\n",
       "      <td>Shooter</td>\n",
       "      <td>4.10</td>\n",
       "      <td>3.63</td>\n",
       "      <td>0.38</td>\n",
       "      <td>1.25</td>\n",
       "      <td>71.0</td>\n",
       "      <td>2.6</td>\n",
       "      <td>M</td>\n",
       "      <td>9.36</td>\n",
       "    </tr>\n",
       "    <tr>\n",
       "      <th>72</th>\n",
       "      <td>Minecraft</td>\n",
       "      <td>X360</td>\n",
       "      <td>2013</td>\n",
       "      <td>Misc</td>\n",
       "      <td>5.70</td>\n",
       "      <td>2.65</td>\n",
       "      <td>0.02</td>\n",
       "      <td>0.81</td>\n",
       "      <td>0.0</td>\n",
       "      <td>0.0</td>\n",
       "      <td>NaN</td>\n",
       "      <td>9.18</td>\n",
       "    </tr>\n",
       "    <tr>\n",
       "      <th>73</th>\n",
       "      <td>Animal Crossing: New Leaf</td>\n",
       "      <td>3DS</td>\n",
       "      <td>2012</td>\n",
       "      <td>Simulation</td>\n",
       "      <td>2.03</td>\n",
       "      <td>2.36</td>\n",
       "      <td>4.39</td>\n",
       "      <td>0.39</td>\n",
       "      <td>88.0</td>\n",
       "      <td>8.7</td>\n",
       "      <td>E</td>\n",
       "      <td>9.17</td>\n",
       "    </tr>\n",
       "    <tr>\n",
       "      <th>77</th>\n",
       "      <td>FIFA 16</td>\n",
       "      <td>PS4</td>\n",
       "      <td>2015</td>\n",
       "      <td>Sports</td>\n",
       "      <td>1.12</td>\n",
       "      <td>6.12</td>\n",
       "      <td>0.06</td>\n",
       "      <td>1.28</td>\n",
       "      <td>82.0</td>\n",
       "      <td>4.3</td>\n",
       "      <td>E</td>\n",
       "      <td>8.58</td>\n",
       "    </tr>\n",
       "    <tr>\n",
       "      <th>81</th>\n",
       "      <td>FIFA Soccer 13</td>\n",
       "      <td>PS3</td>\n",
       "      <td>2012</td>\n",
       "      <td>Action</td>\n",
       "      <td>1.06</td>\n",
       "      <td>5.01</td>\n",
       "      <td>0.13</td>\n",
       "      <td>1.97</td>\n",
       "      <td>88.0</td>\n",
       "      <td>6.6</td>\n",
       "      <td>E</td>\n",
       "      <td>8.17</td>\n",
       "    </tr>\n",
       "    <tr>\n",
       "      <th>83</th>\n",
       "      <td>Pokemon Black 2/Pokemon White 2</td>\n",
       "      <td>DS</td>\n",
       "      <td>2012</td>\n",
       "      <td>Role-Playing</td>\n",
       "      <td>2.79</td>\n",
       "      <td>1.72</td>\n",
       "      <td>3.14</td>\n",
       "      <td>0.41</td>\n",
       "      <td>0.0</td>\n",
       "      <td>0.0</td>\n",
       "      <td>NaN</td>\n",
       "      <td>8.06</td>\n",
       "    </tr>\n",
       "    <tr>\n",
       "      <th>87</th>\n",
       "      <td>Star Wars Battlefront (2015)</td>\n",
       "      <td>PS4</td>\n",
       "      <td>2015</td>\n",
       "      <td>Shooter</td>\n",
       "      <td>2.99</td>\n",
       "      <td>3.49</td>\n",
       "      <td>0.22</td>\n",
       "      <td>1.28</td>\n",
       "      <td>0.0</td>\n",
       "      <td>0.0</td>\n",
       "      <td>NaN</td>\n",
       "      <td>7.98</td>\n",
       "    </tr>\n",
       "    <tr>\n",
       "      <th>92</th>\n",
       "      <td>Call of Duty: Advanced Warfare</td>\n",
       "      <td>PS4</td>\n",
       "      <td>2014</td>\n",
       "      <td>Shooter</td>\n",
       "      <td>2.81</td>\n",
       "      <td>3.48</td>\n",
       "      <td>0.14</td>\n",
       "      <td>1.23</td>\n",
       "      <td>83.0</td>\n",
       "      <td>5.7</td>\n",
       "      <td>M</td>\n",
       "      <td>7.66</td>\n",
       "    </tr>\n",
       "    <tr>\n",
       "      <th>94</th>\n",
       "      <td>FIFA 17</td>\n",
       "      <td>PS4</td>\n",
       "      <td>2016</td>\n",
       "      <td>Sports</td>\n",
       "      <td>0.66</td>\n",
       "      <td>5.75</td>\n",
       "      <td>0.08</td>\n",
       "      <td>1.11</td>\n",
       "      <td>85.0</td>\n",
       "      <td>5.0</td>\n",
       "      <td>E</td>\n",
       "      <td>7.60</td>\n",
       "    </tr>\n",
       "  </tbody>\n",
       "</table>\n",
       "</div>"
      ],
      "text/plain": [
       "                                         name platform  year_of_release  \\\n",
       "16                         Grand Theft Auto V      PS3             2013   \n",
       "23                         Grand Theft Auto V     X360             2013   \n",
       "31                  Call of Duty: Black Ops 3      PS4             2015   \n",
       "33                        Pokemon X/Pokemon Y      3DS             2013   \n",
       "34                 Call of Duty: Black Ops II      PS3             2012   \n",
       "35                 Call of Duty: Black Ops II     X360             2012   \n",
       "42                         Grand Theft Auto V      PS4             2014   \n",
       "47  Pokemon Omega Ruby/Pokemon Alpha Sapphire      3DS             2014   \n",
       "60                       Call of Duty: Ghosts     X360             2013   \n",
       "62                    New Super Mario Bros. 2      3DS             2012   \n",
       "66                                     Halo 4     X360             2012   \n",
       "69                       Call of Duty: Ghosts      PS3             2013   \n",
       "72                                  Minecraft     X360             2013   \n",
       "73                  Animal Crossing: New Leaf      3DS             2012   \n",
       "77                                    FIFA 16      PS4             2015   \n",
       "81                             FIFA Soccer 13      PS3             2012   \n",
       "83            Pokemon Black 2/Pokemon White 2       DS             2012   \n",
       "87               Star Wars Battlefront (2015)      PS4             2015   \n",
       "92             Call of Duty: Advanced Warfare      PS4             2014   \n",
       "94                                    FIFA 17      PS4             2016   \n",
       "\n",
       "           genre  na_sales  eu_sales  jp_sales  other_sales  critic_score  \\\n",
       "16        Action      7.02      9.09      0.98         3.96          97.0   \n",
       "23        Action      9.66      5.14      0.06         1.41          97.0   \n",
       "31       Shooter      6.03      5.86      0.36         2.38           0.0   \n",
       "33  Role-Playing      5.28      4.19      4.35         0.78           0.0   \n",
       "34       Shooter      4.99      5.73      0.65         2.42          83.0   \n",
       "35       Shooter      8.25      4.24      0.07         1.12          83.0   \n",
       "42        Action      3.96      6.31      0.38         1.97          97.0   \n",
       "47  Role-Playing      4.35      3.49      3.10         0.74           0.0   \n",
       "60       Shooter      6.73      2.56      0.04         0.91          73.0   \n",
       "62      Platform      3.66      3.14      2.47         0.63          78.0   \n",
       "66       Shooter      6.65      2.28      0.04         0.74          87.0   \n",
       "69       Shooter      4.10      3.63      0.38         1.25          71.0   \n",
       "72          Misc      5.70      2.65      0.02         0.81           0.0   \n",
       "73    Simulation      2.03      2.36      4.39         0.39          88.0   \n",
       "77        Sports      1.12      6.12      0.06         1.28          82.0   \n",
       "81        Action      1.06      5.01      0.13         1.97          88.0   \n",
       "83  Role-Playing      2.79      1.72      3.14         0.41           0.0   \n",
       "87       Shooter      2.99      3.49      0.22         1.28           0.0   \n",
       "92       Shooter      2.81      3.48      0.14         1.23          83.0   \n",
       "94        Sports      0.66      5.75      0.08         1.11          85.0   \n",
       "\n",
       "    user_score rating  total_sales  \n",
       "16         8.2      M        21.05  \n",
       "23         8.1      M        16.27  \n",
       "31         0.0    NaN        14.63  \n",
       "33         0.0    NaN        14.60  \n",
       "34         5.3      M        13.79  \n",
       "35         4.8      M        13.68  \n",
       "42         8.3      M        12.62  \n",
       "47         0.0    NaN        11.68  \n",
       "60         2.6      M        10.24  \n",
       "62         7.2      E         9.90  \n",
       "66         7.0      M         9.71  \n",
       "69         2.6      M         9.36  \n",
       "72         0.0    NaN         9.18  \n",
       "73         8.7      E         9.17  \n",
       "77         4.3      E         8.58  \n",
       "81         6.6      E         8.17  \n",
       "83         0.0    NaN         8.06  \n",
       "87         0.0    NaN         7.98  \n",
       "92         5.7      M         7.66  \n",
       "94         5.0      E         7.60  "
      ]
     },
     "execution_count": 26,
     "metadata": {},
     "output_type": "execute_result"
    }
   ],
   "source": [
    "relevant_games.head(20)"
   ]
  },
  {
   "cell_type": "markdown",
   "id": "8db16ddb",
   "metadata": {},
   "source": [
    "**Wii**"
   ]
  },
  {
   "cell_type": "markdown",
   "id": "b372a1b8",
   "metadata": {},
   "source": [
    "<div class=\"alert alert-danger\" style=\"border-radius: 15px; box-shadow: 4px 4px 4px; border: 1px solid \">\n",
    "<b> Reviewer's comment 3</b>\n",
    "    \n",
    "\n",
    "Please use relevant dataframe.    \n",
    "</div>\n",
    "<div class=\"alert alert-success\" style=\"border-radius: 15px; box-shadow: 4px 4px 4px; border: 1px solid \">\n",
    "<h2> Reviewer's comment 4 </h2>\n",
    "    \n",
    "Good.     \n",
    "</div>"
   ]
  },
  {
   "cell_type": "code",
   "execution_count": 27,
   "id": "0eb2bd05",
   "metadata": {},
   "outputs": [],
   "source": [
    "wii = relevant_games[relevant_games['platform'] == 'Wii']\n",
    "\n",
    "#remove rows with missing critic_score or user_score\n",
    "wii_critics = wii.dropna(subset=['critic_score'])\n",
    "wii_users = wii.dropna(subset=['user_score'])\n",
    "\n",
    "# remove rows where critic_score or user_score is zero\n",
    "wii_critics = wii[wii['critic_score'] != 0]\n",
    "wii_users = wii[wii['user_score'] != 0]"
   ]
  },
  {
   "cell_type": "code",
   "execution_count": 28,
   "id": "998f5701",
   "metadata": {},
   "outputs": [
    {
     "data": {
      "image/png": "[encoded data removed]",
      "text/plain": [
       "<Figure size 2000x500 with 2 Axes>"
      ]
     },
     "metadata": {},
     "output_type": "display_data"
    }
   ],
   "source": [
    "#plotting the data\n",
    "plt.figure(figsize=(20, 5))\n",
    "\n",
    "#Critic Score vs Total Sales\n",
    "plt.subplot(1,2,1)\n",
    "plt.scatter(wii_critics['critic_score'], wii_critics['total_sales'])\n",
    "plt.title('Critic Score vs Total Sales')\n",
    "plt.xlabel('Critic Score')\n",
    "plt.ylabel('Total Sales')\n",
    "\n",
    "#User Score vs Total Sales\n",
    "plt.subplot(1,2,2)\n",
    "plt.scatter(wii_users['user_score'], wii_users['total_sales'])\n",
    "plt.title('User Score vs Total Sales')\n",
    "plt.xlabel('User Score')\n",
    "plt.ylabel('Total Sales')\n",
    "\n",
    "plt.show()"
   ]
  },
  {
   "cell_type": "code",
   "execution_count": 32,
   "id": "97df7618",
   "metadata": {},
   "outputs": [
    {
     "name": "stdout",
     "output_type": "stream",
     "text": [
      "Correlation between total sales and critic score for Wii:  0.5381207067838352\n",
      "Correlation between total sales and user score for Wii:  0.6168003442757595\n"
     ]
    }
   ],
   "source": [
    "print('Correlation between total sales and critic score for Wii: ', wii['total_sales'].corr(wii['critic_score']))\n",
    "print('Correlation between total sales and user score for Wii: ', wii['total_sales'].corr(wii['user_score']))"
   ]
  },
  {
   "cell_type": "markdown",
   "id": "64e1bd0b",
   "metadata": {},
   "source": [
    "**PS3**"
   ]
  },
  {
   "cell_type": "markdown",
   "id": "0415d812",
   "metadata": {},
   "source": [
    "<div class=\"alert alert-danger\" style=\"border-radius: 15px; box-shadow: 4px 4px 4px; border: 1px solid \">\n",
    "<b> Reviewer's comment 3</b>\n",
    "    \n",
    "\n",
    "Please use relevant dataframe here as well.    \n",
    "</div>\n",
    "<div class=\"alert alert-success\" style=\"border-radius: 15px; box-shadow: 4px 4px 4px; border: 1px solid \">\n",
    "<h2> Reviewer's comment 4 </h2>\n",
    "    \n",
    "Very good! \n",
    "    \n",
    "</div>"
   ]
  },
  {
   "cell_type": "code",
   "execution_count": 29,
   "id": "a836e7b0",
   "metadata": {},
   "outputs": [],
   "source": [
    "ps3 = relevant_games[relevant_games['platform'] == 'PS3']\n",
    "\n",
    "#remove rows with missing critic_score or user_score\n",
    "ps3_critics = ps3.dropna(subset=['critic_score'])\n",
    "ps3_users = ps3.dropna(subset=['user_score'])\n",
    "\n",
    "# remove rows where critic_score or user_score is zero\n",
    "ps3_critics = ps3[ps3['critic_score'] != 0]\n",
    "ps3_users = ps3[ps3['user_score'] != 0]"
   ]
  },
  {
   "cell_type": "code",
   "execution_count": 30,
   "id": "6a50c1de",
   "metadata": {},
   "outputs": [
    {
     "data": {
      "image/png": "[encoded data removed]",
      "text/plain": [
       "<Figure size 2000x500 with 2 Axes>"
      ]
     },
     "metadata": {},
     "output_type": "display_data"
    }
   ],
   "source": [
    "#plotting the data\n",
    "plt.figure(figsize=(20, 5))\n",
    "\n",
    "#Critic Score vs Total Sales\n",
    "plt.subplot(1,2,1)\n",
    "plt.scatter(ps3_critics['critic_score'], ps3_critics['total_sales'])\n",
    "plt.title('Critic Score vs Total Sales')\n",
    "plt.xlabel('Critic Score')\n",
    "plt.ylabel('Total Sales')\n",
    "\n",
    "#User Score vs Total Sales\n",
    "plt.subplot(1,2,2)\n",
    "plt.scatter(ps3_users['user_score'], ps3_users['total_sales'])\n",
    "plt.title('User Score vs Total Sales')\n",
    "plt.xlabel('User Score')\n",
    "plt.ylabel('Total Sales')\n",
    "\n",
    "plt.show()"
   ]
  },
  {
   "cell_type": "code",
   "execution_count": 31,
   "id": "ffbd2dfa",
   "metadata": {},
   "outputs": [
    {
     "name": "stdout",
     "output_type": "stream",
     "text": [
      "Correlation between total sales and critic score for Wii:  0.3007827708439654\n",
      "Correlation between total sales and user score for Wii:  0.21411241044285959\n"
     ]
    }
   ],
   "source": [
    "print('Correlation between total sales and critic score for Wii: ', ps3['total_sales'].corr(ps3['critic_score']))\n",
    "print('Correlation between total sales and user score for Wii: ', ps3['total_sales'].corr(ps3['user_score']))"
   ]
  },
  {
   "cell_type": "markdown",
   "id": "f432eeeb",
   "metadata": {},
   "source": [
    "**PSP**"
   ]
  },
  {
   "cell_type": "code",
   "execution_count": 33,
   "id": "67c803de",
   "metadata": {},
   "outputs": [],
   "source": [
    "psp = relevant_games[relevant_games['platform'] == 'PSP']\n",
    "\n",
    "#remove rows with missing critic_score or user_score\n",
    "psp_critics = psp.dropna(subset=['critic_score'])\n",
    "psp_users = psp.dropna(subset=['user_score'])\n",
    "\n",
    "# remove rows where critic_score or user_score is zero\n",
    "psp_critics = psp[psp['critic_score'] != 0]\n",
    "psp_users = psp[psp['user_score'] != 0]"
   ]
  },
  {
   "cell_type": "code",
   "execution_count": 34,
   "id": "be07fa94",
   "metadata": {},
   "outputs": [
    {
     "data": {
      "image/png": "[encoded data removed]",
      "text/plain": [
       "<Figure size 2000x500 with 2 Axes>"
      ]
     },
     "metadata": {},
     "output_type": "display_data"
    }
   ],
   "source": [
    "#plotting the data\n",
    "plt.figure(figsize=(20, 5))\n",
    "\n",
    "#Critic Score vs Total Sales\n",
    "plt.subplot(1,2,1)\n",
    "plt.scatter(psp_critics['critic_score'], psp_critics['total_sales'])\n",
    "plt.title('Critic Score vs Total Sales')\n",
    "plt.xlabel('Critic Score')\n",
    "plt.ylabel('Total Sales')\n",
    "\n",
    "#User Score vs Total Sales\n",
    "plt.subplot(1,2,2)\n",
    "plt.scatter(psp_users['user_score'], psp_users['total_sales'])\n",
    "plt.title('User Score vs Total Sales')\n",
    "plt.xlabel('User Score')\n",
    "plt.ylabel('Total Sales')\n",
    "\n",
    "plt.show()"
   ]
  },
  {
   "cell_type": "code",
   "execution_count": 35,
   "id": "57bd2d24",
   "metadata": {},
   "outputs": [
    {
     "name": "stdout",
     "output_type": "stream",
     "text": [
      "Correlation between total sales and critic score for Wii:  0.3007827708439654\n",
      "Correlation between total sales and user score for Wii:  0.21411241044285959\n"
     ]
    }
   ],
   "source": [
    "print('Correlation between total sales and critic score for Wii: ', ps3['total_sales'].corr(ps3['critic_score']))\n",
    "print('Correlation between total sales and user score for Wii: ', ps3['total_sales'].corr(ps3['user_score']))"
   ]
  },
  {
   "cell_type": "markdown",
   "id": "e31c4d38",
   "metadata": {},
   "source": [
    "<div class=\"alert alert-success\" style=\"border-radius: 15px; box-shadow: 4px 4px 4px; border: 1px solid \">\n",
    "<h2> Reviewer's comment 4 </h2>\n",
    "    \n",
    "PSP is an old platform, so it does not have much sales within our time interval. That is why we do not have many points on the charts above.    \n",
    "</div>"
   ]
  },
  {
   "cell_type": "markdown",
   "id": "35e596d2",
   "metadata": {},
   "source": [
    "**Comparison**"
   ]
  },
  {
   "cell_type": "code",
   "execution_count": 36,
   "id": "ce3a84e2",
   "metadata": {},
   "outputs": [
    {
     "name": "stdout",
     "output_type": "stream",
     "text": [
      "Correlation between total sales and critic score for Wii:  0.5381207067838352\n",
      "Correlation between total sales and user score for Wii:  0.6168003442757595\n",
      "\n",
      "\n",
      "Correlation between total sales and critic score for PSP:  0.09150966741463108\n",
      "Correlation between total sales and user score for PSP:  0.20038020875948775\n",
      "\n",
      "\n",
      "Correlation between total sales and critic score for PS3:  0.3007827708439654\n",
      "Correlation between total sales and user score for PS3:  0.21411241044285959\n",
      "\n",
      "\n"
     ]
    }
   ],
   "source": [
    "platforms = ['Wii', 'PSP', 'PS3']\n",
    "\n",
    "for platform in platforms:\n",
    "    platform_df = relevant_games[relevant_games['platform'] == platform]\n",
    "    critic_corr = platform_df['total_sales'].corr(platform_df['critic_score'])\n",
    "    user_corr = platform_df['total_sales'].corr(platform_df['user_score'])\n",
    "    print(f'Correlation between total sales and critic score for {platform}: ', critic_corr)\n",
    "    print(f'Correlation between total sales and user score for {platform}: ', user_corr)\n",
    "    print('\\n')\n"
   ]
  },
  {
   "cell_type": "markdown",
   "id": "dcd8bca6",
   "metadata": {},
   "source": [
    "<div class=\"alert alert-danger\" style=\"border-radius: 15px; box-shadow: 4px 4px 4px; border: 1px solid \">\n",
    "<b> Reviewer's comment 2</b>\n",
    "    \n",
    "    \n",
    "According to the task, we have to choose 1 platform, analyze how sales depend on critics' and users' scores, display scatter plots and calculate the correlation coefficients. Then we have to choose  2 or more other platforms, repeat the correlation analysis for them and compare the results. Would you add it?  \n",
    "\n",
    "\n",
    "The wording in this task is ambiguous, but since we are comparing platforms, it is reasonable to take scores for all games on the platform within a chosen period. In other words, you do not need to check each game in the dataset. \n",
    "\n",
    "All you need here is to take 2 or more other platforms and repeat the analysis. Then compare the results. </div>\n",
    "<div class=\"alert alert-success\" style=\"border-radius: 15px; box-shadow: 4px 4px 4px; border: 1px solid \">\n",
    "<h2> Reviewer's comment 3</h2>\n",
    "    \n",
    "\n",
    "Correct. \n",
    "\n",
    "</div>\n",
    "<div class=\"alert alert-warning\" style=\"border-radius: 15px; box-shadow: 4px 4px 4px; border: 1px solid \">\n",
    "<h2> Reviewer's comment 3</h2>\n",
    "    \n",
    "\n",
    "I would choose recent platforms, since we are more interested in them. \n",
    "\n",
    "</div>\n"
   ]
  },
  {
   "cell_type": "markdown",
   "id": "b42a99df-2228-466b-a54c-753c36f41f29",
   "metadata": {},
   "source": [
    "### Distribution of Games by Genre"
   ]
  },
  {
   "cell_type": "markdown",
   "id": "f6c4bbc6",
   "metadata": {},
   "source": [
    "<div class=\"alert alert-danger\" style=\"border-radius: 15px; box-shadow: 4px 4px 4px; border: 1px solid \">\n",
    "<b> Reviewer's comment 2</b>\n",
    "    \n",
    "Relevant time interval should be used in each task :) \n",
    "\n",
    "</div>"
   ]
  },
  {
   "cell_type": "code",
   "execution_count": 46,
   "id": "0b5374ad-1d41-4269-b1e4-a739d71f18ca",
   "metadata": {},
   "outputs": [
    {
     "data": {
      "text/plain": [
       "genre\n",
       "Shooter         1.296723\n",
       "Platform        0.717647\n",
       "Sports          0.678127\n",
       "Role-Playing    0.521081\n",
       "Racing          0.465217\n",
       "Misc            0.442917\n",
       "Simulation      0.439000\n",
       "Action          0.427856\n",
       "Fighting        0.408165\n",
       "Strategy        0.187887\n",
       "Puzzle          0.174643\n",
       "Adventure       0.097450\n",
       "Name: total_sales, dtype: float64"
      ]
     },
     "metadata": {},
     "output_type": "display_data"
    }
   ],
   "source": [
    "#grouping the data by genre and calculating the total sales\n",
    "genre_sales = relevant_games.groupby('genre')['total_sales'].mean().sort_values(ascending=False)\n",
    "\n",
    "display(genre_sales)"
   ]
  },
  {
   "cell_type": "code",
   "execution_count": 47,
   "id": "f06319c8-3f8b-4b25-b2fd-0ae45db1dc38",
   "metadata": {},
   "outputs": [
    {
     "data": {
      "image/png": "[encoded data removed]",
      "text/plain": [
       "<Figure size 1000x500 with 1 Axes>"
      ]
     },
     "metadata": {},
     "output_type": "display_data"
    }
   ],
   "source": [
    "genre_sales.plot(kind='bar', figsize=(10, 5))\n",
    "plt.title('Total Sales by Genre')\n",
    "plt.xlabel('Genre')\n",
    "plt.ylabel('Total Sales')\n",
    "plt.show()"
   ]
  },
  {
   "cell_type": "markdown",
   "id": "1f82b0c1",
   "metadata": {},
   "source": [
    "<div class=\"alert alert-danger\" style=\"border-radius: 15px; box-shadow: 4px 4px 4px; border: 1px solid \">\n",
    "<b> Reviewer's comment 2</b>\n",
    "    \n",
    "    \n",
    "Is it possible that Action has made such volumes only due to the number of games? Maybe other genres have more sales per game unit. Please, do the same, but with median or average sales.\n",
    "\n",
    "</div>\n",
    "<div class=\"alert alert-success\" style=\"border-radius: 15px; box-shadow: 4px 4px 4px; border: 1px solid \">\n",
    "<h2> Reviewer's comment 3</h2>\n",
    "\n",
    "    \n",
    "Now it's correct. Shooter games are more successful on average. \n",
    "\n",
    "</div>   "
   ]
  },
  {
   "cell_type": "markdown",
   "id": "2693a9b3-89f8-4c87-930c-68c73c7d51cf",
   "metadata": {},
   "source": [
    "***Generalizations***\n",
    "\n",
    "\n",
    "***Shooter games*** are the most commercially successful genre.\n",
    "***Platform and Sports games*** are also popular but have about half as many sales as shooter games\n",
    "There is a gradual decrease in sales from ***Role-Playing*** to ***Misc*** genres\n",
    "***Simualtion*** and ***Action*** games have moderate sales figures.\n",
    "***Strategy, Puzzle and Adventure*** games ahve the lowest sales. "
   ]
  },
  {
   "cell_type": "markdown",
   "id": "1c8980d8-4614-497d-8cd2-c799789e4bc7",
   "metadata": {},
   "source": [
    "## Create A User Profile for Each Region"
   ]
  },
  {
   "cell_type": "markdown",
   "id": "f1681f19",
   "metadata": {},
   "source": [
    "<div class=\"alert alert-warning\" style=\"border-radius: 15px; box-shadow: 4px 4px 4px; border: 1px solid \">\n",
    "<b> Reviewer's comment 2</b>\n",
    "    \n",
    "\n",
    "The distributions may change after we use the correct time interval, so don't forget to update the conclusions :) \n",
    "</div>"
   ]
  },
  {
   "cell_type": "markdown",
   "id": "2f802f51-55fe-498e-80cc-ea271f9a41ca",
   "metadata": {},
   "source": [
    "### Top 5 Platforms in Each Region"
   ]
  },
  {
   "cell_type": "code",
   "execution_count": 48,
   "id": "44d2ec71-7364-4b08-8be7-f3221a9aa492",
   "metadata": {},
   "outputs": [],
   "source": [
    "#Creating a df grouped by platforms\n",
    "platform_group = relevant_games.groupby('platform').sum()\n",
    "\n",
    "top_na_plat = platform_group['na_sales'].sort_values(ascending=False).head(5)\n",
    "top_eu_plat = platform_group['eu_sales'].sort_values(ascending=False).head(5)\n",
    "top_jp_plat = platform_group['jp_sales'].sort_values(ascending=False).head(5)"
   ]
  },
  {
   "cell_type": "code",
   "execution_count": 49,
   "id": "c1f30a93-7a02-4cbd-89bb-7add80ac88a7",
   "metadata": {},
   "outputs": [
    {
     "data": {
      "text/plain": [
       "platform\n",
       "X360    140.05\n",
       "PS4     108.74\n",
       "PS3     103.38\n",
       "XOne     93.12\n",
       "3DS      55.31\n",
       "Name: na_sales, dtype: float64"
      ]
     },
     "metadata": {},
     "output_type": "display_data"
    },
    {
     "data": {
      "text/plain": [
       "platform\n",
       "PS4     141.09\n",
       "PS3     106.85\n",
       "X360     74.52\n",
       "XOne     51.59\n",
       "3DS      42.64\n",
       "Name: eu_sales, dtype: float64"
      ]
     },
     "metadata": {},
     "output_type": "display_data"
    },
    {
     "data": {
      "text/plain": [
       "platform\n",
       "3DS     87.79\n",
       "PS3     35.29\n",
       "PSV     21.04\n",
       "PS4     15.96\n",
       "WiiU    13.01\n",
       "Name: jp_sales, dtype: float64"
      ]
     },
     "metadata": {},
     "output_type": "display_data"
    }
   ],
   "source": [
    "display(top_na_plat)\n",
    "display(top_eu_plat)\n",
    "display(top_jp_plat)"
   ]
  },
  {
   "cell_type": "markdown",
   "id": "01c3d8cf-5a6a-4090-ad6c-b418f4fe661f",
   "metadata": {},
   "source": [
    "The video game market shares vary significantly across the regions of North America (NA), Europe (EU), and Japan (JP) based on the platform of the games:\n",
    "\n",
    "- **X360** dominates in **NA** with sales of **140.05**, but it ranks third in **EU** with sales of **74.52** and doesn't appear in the top five platforms in **JP**.\n",
    "- **PS4** is the second most popular platform in **NA** with sales of **108.74**, and it's the most popular in **EU** with sales of **141.09**. It also appears in the top five platforms in **JP** with sales of **15.96**.\n",
    "- **PS3** is popular in **NA** and **EU**, ranking third with sales of **103.38** and second with sales of **106.85** respectively, but it doesn't appear in the top five platforms in **JP**.\n",
    "- **XOne** ranks fourth in **NA** with sales of **93.12** and fourth in **EU** with sales of **51.59**, but it doesn't appear in the top five platforms in **JP**.\n",
    "- **3DS** appears in the top five platforms in **NA** with sales of **55.31**, and it's the most popular platform in **JP** with sales of **87.79**, but it doesn't appear in the top five platforms in **EU**.\n",
    "\n",
    "This variation in market shares could be due to various factors such as the popularity of certain gaming consoles in these regions, the availability of exclusive titles, and the preferences of gamers in these regions. For instance, the Xbox 360 (X360) is more popular in NA, possibly due to it being a product of an American company (Microsoft), while the PlayStation 4 (PS2) and PlayStation 3 (PS3) are more popular in EU and JP, possibly due to them being products of a Japanese company (Sony). The WiiU is particularly popular in JP, possibly due to the popularity of handheld gaming in Japan."
   ]
  },
  {
   "cell_type": "markdown",
   "id": "af18093e",
   "metadata": {},
   "source": [
    "<div class=\"alert alert-success\" style=\"border-radius: 15px; box-shadow: 4px 4px 4px; border: 1px solid \">\n",
    "<h2> Reviewer's comment 3</h2>\n",
    "\n",
    "    \n",
    "Seems like people in Japan prefer portable platforms and japanese market. We definitely should not recommend them XBox :)  \n",
    "\n",
    "</div>   "
   ]
  },
  {
   "cell_type": "markdown",
   "id": "b483e022-61c5-4ff4-a5b9-42f35478901b",
   "metadata": {},
   "source": [
    "### Top 5 Genres in Each Region"
   ]
  },
  {
   "cell_type": "code",
   "execution_count": 50,
   "id": "b321cbd0-b463-4c11-8d72-bb1ff78e8eb2",
   "metadata": {},
   "outputs": [],
   "source": [
    "genre_group = relevant_games.groupby('genre').sum()\n",
    "na_top_genres = genre_group['na_sales'].sort_values(ascending=False).head(5)\n",
    "eu_top_genres = genre_group['eu_sales'].sort_values(ascending=False).head(5)\n",
    "jp_top_genres = genre_group['jp_sales'].sort_values(ascending=False).head(5)\n"
   ]
  },
  {
   "cell_type": "code",
   "execution_count": 51,
   "id": "586baef2-0581-4ee4-b2d4-2c5cd3b2eb43",
   "metadata": {
    "scrolled": true
   },
   "outputs": [
    {
     "data": {
      "text/plain": [
       "genre\n",
       "Action          177.84\n",
       "Shooter         144.77\n",
       "Sports           81.53\n",
       "Role-Playing     64.00\n",
       "Misc             38.19\n",
       "Name: na_sales, dtype: float64"
      ]
     },
     "metadata": {},
     "output_type": "display_data"
    },
    {
     "data": {
      "text/plain": [
       "genre\n",
       "Action          159.34\n",
       "Shooter         113.47\n",
       "Sports           69.08\n",
       "Role-Playing     48.53\n",
       "Racing           27.29\n",
       "Name: eu_sales, dtype: float64"
      ]
     },
     "metadata": {},
     "output_type": "display_data"
    },
    {
     "data": {
      "text/plain": [
       "genre\n",
       "Role-Playing    65.44\n",
       "Action          52.80\n",
       "Misc            12.86\n",
       "Simulation      10.41\n",
       "Fighting         9.44\n",
       "Name: jp_sales, dtype: float64"
      ]
     },
     "metadata": {},
     "output_type": "display_data"
    }
   ],
   "source": [
    "display(na_top_genres)\n",
    "display(eu_top_genres)\n",
    "display(jp_top_genres)"
   ]
  },
  {
   "cell_type": "markdown",
   "id": "bd30518b-7126-4ccc-9b05-5bee62d7ee94",
   "metadata": {},
   "source": [
    "The video game market shares vary significantly across the regions of North America (NA), Europe (EU), and Japan (JP) based on the genre of the games:\n",
    "\n",
    "- **Action** and **Shooter** genres are the most popular in both **North America** and **Europe**, with sales of **177.84** and **144.77** million units respectively in North America, and **159.34** and **113.47** million units respectively in Europe.\n",
    "- The **Sports** genre also performs well in these regions, with sales of **81.53** million units in North America and **69.08** million units in Europe.\n",
    "- In contrast, the **Role-Playing** genre is the most popular in **Japan**, with sales of **65.44** million units. The **Action** genre, while still popular, has significantly less sales in Japan (**52.80** million units) compared to North America and Europe.\n",
    "- The **Misc, Simulation,** and **Fighting** genres show notable sales in Japan, indicating a different preference in game genres compared to Western markets.\n"
   ]
  },
  {
   "cell_type": "markdown",
   "id": "c000c3d4",
   "metadata": {},
   "source": [
    "<div class=\"alert alert-success\" style=\"border-radius: 15px; box-shadow: 4px 4px 4px; border: 1px solid \">\n",
    "<h2> Reviewer's comment 3 </h2>\n",
    "\n",
    "    \n",
    "For some reason, Japanese also don't like shooters as much as people in NA and EU do.  \n",
    "\n",
    "</div>   "
   ]
  },
  {
   "cell_type": "markdown",
   "id": "a8a72465-3b7a-4a31-adcf-c1f248fe6789",
   "metadata": {},
   "source": [
    "### Effect of ESRB ratings on"
   ]
  },
  {
   "cell_type": "code",
   "execution_count": 52,
   "id": "051c9412-28ed-4443-8449-8894e67d521d",
   "metadata": {},
   "outputs": [],
   "source": [
    "rating_group = relevant_games.groupby('rating').sum()\n",
    "na_sales_by_rating = rating_group['na_sales']\n",
    "eu_sales_by_rating = rating_group['eu_sales']\n",
    "jp_sales_by_rating = rating_group['jp_sales']\n"
   ]
  },
  {
   "cell_type": "code",
   "execution_count": 53,
   "id": "f8d9c895-bb8c-4ed0-8e61-543a9e2051da",
   "metadata": {},
   "outputs": [
    {
     "data": {
      "text/plain": [
       "rating\n",
       "E       114.37\n",
       "E10+     75.70\n",
       "M       231.57\n",
       "T        66.02\n",
       "Name: na_sales, dtype: float64"
      ]
     },
     "metadata": {},
     "output_type": "display_data"
    },
    {
     "data": {
      "text/plain": [
       "rating\n",
       "E       113.02\n",
       "E10+     55.37\n",
       "M       193.96\n",
       "T        52.96\n",
       "Name: eu_sales, dtype: float64"
      ]
     },
     "metadata": {},
     "output_type": "display_data"
    },
    {
     "data": {
      "text/plain": [
       "rating\n",
       "E       28.33\n",
       "E10+     8.19\n",
       "M       21.20\n",
       "T       26.02\n",
       "Name: jp_sales, dtype: float64"
      ]
     },
     "metadata": {},
     "output_type": "display_data"
    }
   ],
   "source": [
    "display(na_sales_by_rating)\n",
    "display(eu_sales_by_rating)\n",
    "display(jp_sales_by_rating)"
   ]
  },
  {
   "cell_type": "markdown",
   "id": "010b16e9-66b4-404d-8493-3c402658df7b",
   "metadata": {},
   "source": [
    "Here's a brief analysis:\n",
    "\n",
    "- **Mature (M) rated games** have the highest sales in both **North America** and **Europe**, with sales of **231.57** and **193.96** respectively. This suggests that games with an M rating are quite popular in these regions.\n",
    "\n",
    "- In contrast, **Japan** has a different preference. The highest sales are for games rated **E (Everyone)** and **T (Teen)**, with sales of **28.33** and **26.02** respectively. This could indicate a cultural difference in game preference.\n",
    "\n",
    "- Games rated **E10+ (Everyone 10 and older)** have the lowest sales across all three regions. This might suggest that these games are less popular globally.\n",
    "\n",
    "- It’s interesting to note that **North America** and **Europe** have similar sales patterns, with M and E rated games being the most popular. However, **Japan** has a distinct pattern where E and T rated games lead the sales.\n",
    "\n",
    "It's important to note that these trends could be influenced by various factors such as cultural preferences, marketing strategies, and the popularity of certain game genres in these regions. Therefore, while ESRB ratings appear to affect sales, they are likely not the sole determining factor. A more comprehensive analysis would consider additional variables."
   ]
  },
  {
   "cell_type": "markdown",
   "id": "96896705-9ceb-428c-afbd-4542d839afe1",
   "metadata": {},
   "source": [
    "## Testing Hypotheses"
   ]
  },
  {
   "cell_type": "markdown",
   "id": "da4a8f60",
   "metadata": {},
   "source": [
    "<div class=\"alert alert-danger\" style=\"border-radius: 15px; box-shadow: 4px 4px 4px; border: 1px solid \">\n",
    "<b> Reviewer's comment 2</b>\n",
    "    \n",
    "    \n",
    "- The old dataframe is used. We should conduct the analysis within one time interval. It's ok for XOne, since XOne was released in 2013, but it is not good for genres and PC, since these dataframes are going to include old games as well. \n",
    "\n",
    "\n",
    "\n",
    "- Don't forget that we have to delete zeros, not Nans :)</div>\n",
    "<div class=\"alert alert-success\" style=\"border-radius: 15px; box-shadow: 4px 4px 4px; border: 1px solid \">\n",
    "<h2> Reviewer's comment 3 </h2>\n",
    "\n",
    "    \n",
    "Great! \n",
    "</div>   \n",
    "<div class=\"alert alert-danger\" style=\"border-radius: 15px; box-shadow: 4px 4px 4px; border: 1px solid \">\n",
    "<b> Reviewer's comment 3</b>\n",
    "    \n",
    "    \n",
    "However, in the cells below, you are still using `dropna`, while we do not have any nans there. We should exclude zeros instead. \n",
    "    \n",
    "</div>\n",
    "<div class=\"alert alert-success\" style=\"border-radius: 15px; box-shadow: 4px 4px 4px; border: 1px solid \">\n",
    "<h2> Reviewer's comment 4 </h2>\n",
    "    \n",
    "Excellent!     \n",
    "</div>"
   ]
  },
  {
   "cell_type": "code",
   "execution_count": 37,
   "id": "83405e1f-bd39-47c8-9738-cf34c4a04445",
   "metadata": {},
   "outputs": [
    {
     "name": "stdout",
     "output_type": "stream",
     "text": [
      "We fail to reject the null hypothesis for platforms. The average user ratings for Xbox One and PC are the same.\n"
     ]
    }
   ],
   "source": [
    "# Filter the data for platforms\n",
    "xbox_one = relevant_games[(relevant_games['platform'] == 'Xbox One') & (relevant_games['user_score'] != 0)]['user_score']\n",
    "pc = relevant_games[(relevant_games['platform'] == 'PC') & (relevant_games['user_score'] != 0)]['user_score']\n",
    "\n",
    "# Perform t-test for platforms\n",
    "t_stat_platforms, p_val_platforms = stats.ttest_ind(xbox_one, pc)\n",
    "\n",
    "# Set your own alpha\n",
    "alpha = 0.05\n",
    "\n",
    "if p_val_platforms < alpha:\n",
    "    print(\"We reject the null hypothesis for platforms. The average user ratings for Xbox One and PC are not the same.\")\n",
    "else:\n",
    "    print(\"We fail to reject the null hypothesis for platforms. The average user ratings for Xbox One and PC are the same.\")"
   ]
  },
  {
   "cell_type": "code",
   "execution_count": 38,
   "id": "de535529-ce7d-44af-a2b0-d9a4715ab68b",
   "metadata": {},
   "outputs": [
    {
     "name": "stdout",
     "output_type": "stream",
     "text": [
      "We reject the null hypothesis for genres. The average user ratings for Action and Sports are different.\n"
     ]
    }
   ],
   "source": [
    "# Filter the data for genres\n",
    "action = relevant_games[(relevant_games['genre'] == 'Action') & (relevant_games['user_score'] != 0)]['user_score']\n",
    "sports = relevant_games[(relevant_games['genre'] == 'Sports') & (relevant_games['user_score'] != 0)]['user_score']\n",
    "\n",
    "# Perform t-test for genres\n",
    "t_stat_genres, p_val_genres = stats.ttest_ind(action, sports)\n",
    "\n",
    "if p_val_genres < alpha:\n",
    "    print(\"We reject the null hypothesis for genres. The average user ratings for Action and Sports are different.\")\n",
    "else:\n",
    "    print(\"We fail to reject the null hypothesis for genres. The average user ratings for Action and Sports are the same.\")"
   ]
  },
  {
   "cell_type": "markdown",
   "id": "9d467224",
   "metadata": {},
   "source": [
    "<div class=\"alert alert-warning\" style=\"border-radius: 15px; box-shadow: 4px 4px 4px; border: 1px solid \">\n",
    "<h2> Reviewer's comment 2</h2>\n",
    "    \n",
    "\n",
    "The fact that we reject the null hypothesis does not entail that the 2nd hypothesis is true. We just reject it at a particular significance level. I would change the wording in the conclusion. \n",
    "    \n",
    "</div>"
   ]
  },
  {
   "cell_type": "markdown",
   "id": "6bc70498-2fd6-427a-9aeb-a3cb24c9f687",
   "metadata": {},
   "source": [
    "1. **Formulation of the Null and Alternative Hypotheses:**\n",
    "\n",
    "   The null hypothesis (H0) and alternative hypothesis (H1) are formulated based on the question of interest. In this case, we are interested in whether there is a difference in the average user ratings between different platforms (Xbox One and PC) and different genres (Action and Sports).\n",
    "\n",
    "   For the platforms:\n",
    "   - H0: The average user rating for Xbox One is the same as for PC.\n",
    "   - H1: The average user rating for Xbox One is not the same as for PC.\n",
    "\n",
    "   For the genres:\n",
    "   - H0: The average user rating for Action games is the same as for Sports games.\n",
    "   - H1: The average user rating for Action games is not the same as for Sports games.\n",
    "\n",
    "2. **Choice of Significance Level:**\n",
    "\n",
    "   The significance level, often denoted by alpha (α), is the probability of rejecting the null hypothesis when it is true. In other words, it's the risk of making a Type I error (false positive). The choice of α is somewhat arbitrary, but a common choice is 0.05 (or 5%). This means that we are willing to accept a 5% chance of incorrectly rejecting the null hypothesis.\n",
    "\n",
    "   The choice of α = 0.05 in this code means that if the p-value obtained from the t-test is less than 0.05, we reject the null hypothesis and conclude that there is a significant difference in the average user ratings for the two platforms or genres being compared. If the p-value is greater than or equal to 0.05, we fail to reject the null hypothesis, concluding that there is not a significant difference in the average user ratings.\n",
    "\n",
    "   The choice of 0.05 as the significance level is a balance between being too lenient (which might lead to many false positives) and being too strict (which might lead to many false negatives). It's a standard practice in many statistical analyses. However, the appropriate level can vary depending on the specific field or context. For example, in fields where making a Type I error is particularly costly or dangerous, a smaller α might be chosen. Conversely, in exploratory studies where missing a potentially important finding could be costly, a larger α might be chosen.\n"
   ]
  },
  {
   "cell_type": "markdown",
   "id": "5b5c96e0",
   "metadata": {},
   "source": [
    "<div class=\"alert alert-success\" style=\"border-radius: 15px; box-shadow: 4px 4px 4px; border: 1px solid \">\n",
    "<h2> Reviewer's comment 2 </h2>\n",
    "\n",
    "    \n",
    "Good. The null hypothesis always includes the equal sign. This is because the test does not understand exactly how we set the problem: we can say, for instance, let's make sure that they are not equal. Or that they are equal. And regardless of the purpose of our study, we always put equality at null hypothesis. Then the test result is interpreted correctly.\n",
    "\n",
    "</div>   "
   ]
  },
  {
   "cell_type": "markdown",
   "id": "148c112b-90b5-437d-bf09-139750cc7b84",
   "metadata": {},
   "source": [
    "# Conclusion"
   ]
  },
  {
   "cell_type": "markdown",
   "id": "577916cf-9a6e-4cfd-8cb1-0427d93da605",
   "metadata": {},
   "source": [
    "Based on the data analysis, the following conclusion can be drawn: \n",
    "\n",
    "- **Data Preprocessing:** The dataset was cleaned and preprocessed by handling missing values, dealing with ‘tbd’ entries in user scores, calculating total sales, replacing infinite values, and removing duplicates. This has made the dataset more reliable and easier to work with.\n",
    "\n",
    "- **Hypothesis:** The hypothesis suggests that the date ranges of the data could make it difficult to use due to the lack of ESRB ratings, critic/user scoring, and global releases of games in earlier years. Therefore, a specific time frame might need to be chosen for analysis.\n",
    "\n",
    "- **Platform Analysis:** The sales figures vary significantly across different gaming platforms. Platforms like X360, PS3, and PS4 show high variability in sales with several outliers, indicating that a few games have very high sales figures. On the other hand, platforms like PC, PSP, and PSVita show a tight distribution around their median without significant outliers, suggesting consistent yet modest game sale figures across titles on these platforms.\n",
    "\n",
    "- **Genre Analysis:** Shooter games are the most commercially successful genre, followed by Platform and Sports games. Strategy, Puzzle, and Adventure games have the lowest sales. This suggests that the genre of a game can significantly influence its commercial success.\n",
    "\n",
    "- **Regional Analysis:** The video game market shares vary significantly across different regions based on both the platform and the genre of the games. For instance, X360 dominates in North America, while PS4 is the most popular in Europe, and 3DS is the most popular in Japan. Similarly, Action and Shooter genres are the most popular in North America and Europe, while the Role-Playing genre is the most popular in Japan. This indicates that cultural preferences and the popularity of certain gaming consoles and genres in different regions can significantly influence game sales.\n",
    "\n",
    "- **ESRB Ratings Analysis:** Mature (M) rated games have the highest sales in North America and Europe, while games rated E (Everyone) and T (Teen) have the highest sales in Japan. This suggests that ESRB ratings can influence game sales, although they are likely not the sole determining factor.\n",
    "\n",
    "In conclusion, the success of a video game in terms of sales is influenced by various factors such as the platform, genre, region, and ESRB rating. Therefore, these factors should be carefully considered when planning advertising campaigns for video games. The next step would be to analyze the data further to discern which of it can be usable for forecasting 2017. This would help in identifying potential big winners and planning effective advertising campaigns."
   ]
  },
  {
   "cell_type": "markdown",
   "id": "a6bef376",
   "metadata": {},
   "source": [
    "<div class=\"alert alert-success\" style=\"border-radius: 15px; box-shadow: 4px 4px 4px; border: 1px solid \">\n",
    "<h2> Reviewer's comment 2</h2>\n",
    "\n",
    "    \n",
    "The conclusion is written well.    \n",
    "</div>    \n",
    "<div class=\"alert alert-danger\" style=\"border-radius: 15px; box-shadow: 4px 4px 4px; border: 1px solid \">\n",
    "<b> Reviewer's comment 2</b>\n",
    "    \n",
    "Don't forget to update it if needed.\n",
    "</div>\n",
    "<div class=\"alert alert-success\" style=\"border-radius: 15px; box-shadow: 4px 4px 4px; border: 1px solid \">\n",
    "<h2> Reviewer's comment 3</h2>\n",
    "\n",
    "    \n",
    "Well done! </div>   "
   ]
  },
  {
   "cell_type": "code",
   "execution_count": null,
   "id": "f4fdce53",
   "metadata": {},
   "outputs": [],
   "source": []
  }
 ],
 "metadata": {
  "ExecuteTimeLog": [
   {
    "duration": 5221,
    "start_time": "2024-07-13T15:56:45.636Z"
   },
   {
    "duration": 1243,
    "start_time": "2024-07-13T15:56:50.861Z"
   },
   {
    "duration": 0,
    "start_time": "2024-07-13T15:56:52.113Z"
   },
   {
    "duration": 0,
    "start_time": "2024-07-13T15:56:52.115Z"
   },
   {
    "duration": 0,
    "start_time": "2024-07-13T15:56:52.118Z"
   },
   {
    "duration": 0,
    "start_time": "2024-07-13T15:56:52.120Z"
   },
   {
    "duration": 0,
    "start_time": "2024-07-13T15:56:52.123Z"
   },
   {
    "duration": 0,
    "start_time": "2024-07-13T15:56:52.126Z"
   },
   {
    "duration": 0,
    "start_time": "2024-07-13T15:56:52.128Z"
   },
   {
    "duration": 0,
    "start_time": "2024-07-13T15:56:52.130Z"
   },
   {
    "duration": 0,
    "start_time": "2024-07-13T15:56:52.134Z"
   },
   {
    "duration": 0,
    "start_time": "2024-07-13T15:56:52.136Z"
   },
   {
    "duration": 0,
    "start_time": "2024-07-13T15:56:52.139Z"
   },
   {
    "duration": 0,
    "start_time": "2024-07-13T15:56:52.140Z"
   },
   {
    "duration": 0,
    "start_time": "2024-07-13T15:56:52.142Z"
   },
   {
    "duration": 0,
    "start_time": "2024-07-13T15:56:52.149Z"
   },
   {
    "duration": 0,
    "start_time": "2024-07-13T15:56:52.151Z"
   },
   {
    "duration": 0,
    "start_time": "2024-07-13T15:56:52.153Z"
   },
   {
    "duration": 0,
    "start_time": "2024-07-13T15:56:52.156Z"
   },
   {
    "duration": 0,
    "start_time": "2024-07-13T15:56:52.158Z"
   },
   {
    "duration": 0,
    "start_time": "2024-07-13T15:56:52.160Z"
   },
   {
    "duration": 0,
    "start_time": "2024-07-13T15:56:52.213Z"
   },
   {
    "duration": 0,
    "start_time": "2024-07-13T15:56:52.216Z"
   },
   {
    "duration": 0,
    "start_time": "2024-07-13T15:56:52.218Z"
   },
   {
    "duration": 0,
    "start_time": "2024-07-13T15:56:52.220Z"
   },
   {
    "duration": 0,
    "start_time": "2024-07-13T15:56:52.222Z"
   },
   {
    "duration": 0,
    "start_time": "2024-07-13T15:56:52.224Z"
   },
   {
    "duration": 0,
    "start_time": "2024-07-13T15:56:52.226Z"
   },
   {
    "duration": 0,
    "start_time": "2024-07-13T15:56:52.227Z"
   },
   {
    "duration": 0,
    "start_time": "2024-07-13T15:56:52.230Z"
   },
   {
    "duration": 0,
    "start_time": "2024-07-13T15:56:52.232Z"
   },
   {
    "duration": 0,
    "start_time": "2024-07-13T15:56:52.234Z"
   },
   {
    "duration": 0,
    "start_time": "2024-07-13T15:56:52.236Z"
   },
   {
    "duration": 0,
    "start_time": "2024-07-13T15:56:52.237Z"
   },
   {
    "duration": 0,
    "start_time": "2024-07-13T15:56:52.239Z"
   },
   {
    "duration": 0,
    "start_time": "2024-07-13T15:56:52.241Z"
   },
   {
    "duration": 0,
    "start_time": "2024-07-13T15:56:52.249Z"
   },
   {
    "duration": 421,
    "start_time": "2024-07-13T22:24:56.122Z"
   },
   {
    "duration": 8269,
    "start_time": "2024-07-13T22:25:00.144Z"
   },
   {
    "duration": 68,
    "start_time": "2024-07-13T22:25:13.051Z"
   },
   {
    "duration": 1351,
    "start_time": "2024-07-14T09:25:48.759Z"
   },
   {
    "duration": 54,
    "start_time": "2024-07-14T09:25:50.114Z"
   },
   {
    "duration": 52,
    "start_time": "2024-07-14T09:25:50.171Z"
   },
   {
    "duration": 4,
    "start_time": "2024-07-14T09:25:50.226Z"
   },
   {
    "duration": 17,
    "start_time": "2024-07-14T09:25:50.235Z"
   },
   {
    "duration": 5,
    "start_time": "2024-07-14T09:25:50.255Z"
   },
   {
    "duration": 43,
    "start_time": "2024-07-14T09:25:50.263Z"
   },
   {
    "duration": 7,
    "start_time": "2024-07-14T09:25:50.309Z"
   },
   {
    "duration": 11,
    "start_time": "2024-07-14T09:25:50.320Z"
   },
   {
    "duration": 7,
    "start_time": "2024-07-14T09:25:50.335Z"
   },
   {
    "duration": 60,
    "start_time": "2024-07-14T09:25:50.344Z"
   },
   {
    "duration": 22,
    "start_time": "2024-07-14T09:25:50.407Z"
   },
   {
    "duration": 282,
    "start_time": "2024-07-14T09:25:50.433Z"
   },
   {
    "duration": 8,
    "start_time": "2024-07-14T09:25:50.723Z"
   },
   {
    "duration": 10,
    "start_time": "2024-07-14T09:25:50.734Z"
   },
   {
    "duration": 300,
    "start_time": "2024-07-14T09:25:50.748Z"
   },
   {
    "duration": 7,
    "start_time": "2024-07-14T09:25:51.052Z"
   },
   {
    "duration": 5,
    "start_time": "2024-07-14T09:25:51.062Z"
   },
   {
    "duration": 39,
    "start_time": "2024-07-14T09:25:51.070Z"
   },
   {
    "duration": 4,
    "start_time": "2024-07-14T09:25:51.113Z"
   },
   {
    "duration": 485,
    "start_time": "2024-07-14T09:25:51.121Z"
   },
   {
    "duration": 424,
    "start_time": "2024-07-14T09:25:51.609Z"
   },
   {
    "duration": 8,
    "start_time": "2024-07-14T09:25:52.036Z"
   },
   {
    "duration": 24,
    "start_time": "2024-07-14T09:25:52.047Z"
   },
   {
    "duration": 36,
    "start_time": "2024-07-14T09:25:52.073Z"
   },
   {
    "duration": 351,
    "start_time": "2024-07-14T09:25:52.111Z"
   },
   {
    "duration": 3,
    "start_time": "2024-07-14T09:25:52.465Z"
   },
   {
    "duration": 31,
    "start_time": "2024-07-14T09:25:52.472Z"
   },
   {
    "duration": 287,
    "start_time": "2024-07-14T09:25:52.506Z"
   },
   {
    "duration": 16,
    "start_time": "2024-07-14T09:25:52.802Z"
   },
   {
    "duration": 16,
    "start_time": "2024-07-14T09:25:52.822Z"
   },
   {
    "duration": 14,
    "start_time": "2024-07-14T09:25:52.844Z"
   },
   {
    "duration": 17,
    "start_time": "2024-07-14T09:25:52.901Z"
   },
   {
    "duration": 14,
    "start_time": "2024-07-14T09:25:52.921Z"
   },
   {
    "duration": 16,
    "start_time": "2024-07-14T09:25:52.942Z"
   },
   {
    "duration": 48,
    "start_time": "2024-07-14T09:25:52.962Z"
   },
   {
    "duration": 15,
    "start_time": "2024-07-14T09:25:53.013Z"
   },
   {
    "duration": 243,
    "start_time": "2024-07-14T09:37:58.880Z"
   },
   {
    "duration": 262,
    "start_time": "2024-07-14T09:39:02.119Z"
   },
   {
    "duration": 36,
    "start_time": "2024-07-14T09:39:45.433Z"
   },
   {
    "duration": 345,
    "start_time": "2024-07-14T12:31:28.862Z"
   },
   {
    "duration": 4875,
    "start_time": "2024-07-14T12:31:34.862Z"
   },
   {
    "duration": 63,
    "start_time": "2024-07-14T12:31:42.162Z"
   },
   {
    "duration": 46,
    "start_time": "2024-07-14T12:31:44.221Z"
   },
   {
    "duration": 4,
    "start_time": "2024-07-14T12:31:54.227Z"
   },
   {
    "duration": 17,
    "start_time": "2024-07-14T12:31:55.022Z"
   },
   {
    "duration": 1245,
    "start_time": "2024-07-14T12:31:59.702Z"
   },
   {
    "duration": 7,
    "start_time": "2024-07-14T12:32:03.221Z"
   },
   {
    "duration": 7,
    "start_time": "2024-07-14T12:32:23.842Z"
   },
   {
    "duration": 10,
    "start_time": "2024-07-14T12:32:26.822Z"
   },
   {
    "duration": 12,
    "start_time": "2024-07-14T12:32:32.122Z"
   },
   {
    "duration": 9,
    "start_time": "2024-07-14T12:32:32.783Z"
   },
   {
    "duration": 15,
    "start_time": "2024-07-14T12:32:37.127Z"
   },
   {
    "duration": 23,
    "start_time": "2024-07-14T12:32:37.822Z"
   },
   {
    "duration": 24,
    "start_time": "2024-07-14T12:33:04.887Z"
   },
   {
    "duration": 19,
    "start_time": "2024-07-14T12:33:08.026Z"
   },
   {
    "duration": 19,
    "start_time": "2024-07-14T12:34:23.012Z"
   },
   {
    "duration": 13,
    "start_time": "2024-07-14T12:34:30.382Z"
   },
   {
    "duration": 14,
    "start_time": "2024-07-14T12:34:45.521Z"
   },
   {
    "duration": 11,
    "start_time": "2024-07-14T12:34:51.802Z"
   },
   {
    "duration": 14,
    "start_time": "2024-07-14T12:34:59.122Z"
   },
   {
    "duration": 10,
    "start_time": "2024-07-14T12:35:25.862Z"
   },
   {
    "duration": 18,
    "start_time": "2024-07-14T12:35:51.542Z"
   },
   {
    "duration": 10,
    "start_time": "2024-07-14T12:37:23.262Z"
   },
   {
    "duration": 19,
    "start_time": "2024-07-14T12:37:30.241Z"
   },
   {
    "duration": 39,
    "start_time": "2024-07-14T12:37:58.682Z"
   },
   {
    "duration": 42,
    "start_time": "2024-07-14T12:37:59.502Z"
   },
   {
    "duration": 4,
    "start_time": "2024-07-14T12:38:04.083Z"
   },
   {
    "duration": 17,
    "start_time": "2024-07-14T12:38:04.751Z"
   },
   {
    "duration": 4,
    "start_time": "2024-07-14T12:38:06.172Z"
   },
   {
    "duration": 6,
    "start_time": "2024-07-14T12:38:07.097Z"
   },
   {
    "duration": 7,
    "start_time": "2024-07-14T12:38:10.581Z"
   },
   {
    "duration": 6,
    "start_time": "2024-07-14T12:38:19.702Z"
   },
   {
    "duration": 12,
    "start_time": "2024-07-14T12:38:25.022Z"
   },
   {
    "duration": 7,
    "start_time": "2024-07-14T12:38:26.042Z"
   },
   {
    "duration": 12,
    "start_time": "2024-07-14T12:38:50.482Z"
   },
   {
    "duration": 17,
    "start_time": "2024-07-14T12:38:53.787Z"
   },
   {
    "duration": 19,
    "start_time": "2024-07-14T12:38:55.722Z"
   },
   {
    "duration": 10,
    "start_time": "2024-07-14T12:38:56.991Z"
   },
   {
    "duration": 16,
    "start_time": "2024-07-14T12:38:57.482Z"
   },
   {
    "duration": 42,
    "start_time": "2024-07-14T12:51:17.432Z"
   },
   {
    "duration": 39,
    "start_time": "2024-07-14T12:51:38.362Z"
   },
   {
    "duration": 16,
    "start_time": "2024-07-14T12:51:43.962Z"
   },
   {
    "duration": 20,
    "start_time": "2024-07-14T12:51:58.762Z"
   },
   {
    "duration": 19,
    "start_time": "2024-07-14T12:52:03.967Z"
   },
   {
    "duration": 10,
    "start_time": "2024-07-14T12:52:09.142Z"
   },
   {
    "duration": 38,
    "start_time": "2024-07-14T12:54:26.905Z"
   },
   {
    "duration": 12,
    "start_time": "2024-07-14T12:54:39.723Z"
   },
   {
    "duration": 18,
    "start_time": "2024-07-14T12:54:51.102Z"
   },
   {
    "duration": 10,
    "start_time": "2024-07-14T12:55:19.421Z"
   },
   {
    "duration": 9,
    "start_time": "2024-07-14T12:55:29.221Z"
   },
   {
    "duration": 9,
    "start_time": "2024-07-14T12:58:43.287Z"
   },
   {
    "duration": 13,
    "start_time": "2024-07-14T12:58:59.363Z"
   },
   {
    "duration": 16,
    "start_time": "2024-07-14T13:02:06.022Z"
   },
   {
    "duration": 11,
    "start_time": "2024-07-14T13:02:16.222Z"
   },
   {
    "duration": 16,
    "start_time": "2024-07-14T13:03:00.062Z"
   },
   {
    "duration": 552,
    "start_time": "2024-07-14T13:03:17.862Z"
   },
   {
    "duration": 12,
    "start_time": "2024-07-14T13:03:29.342Z"
   },
   {
    "duration": 17,
    "start_time": "2024-07-14T13:03:44.182Z"
   },
   {
    "duration": 10,
    "start_time": "2024-07-14T13:04:04.422Z"
   },
   {
    "duration": 10,
    "start_time": "2024-07-14T13:04:08.702Z"
   },
   {
    "duration": 388,
    "start_time": "2024-07-14T13:55:50.782Z"
   },
   {
    "duration": 463,
    "start_time": "2024-07-14T13:59:24.923Z"
   },
   {
    "duration": 6,
    "start_time": "2024-07-14T14:02:30.142Z"
   },
   {
    "duration": 5,
    "start_time": "2024-07-14T14:02:32.362Z"
   },
   {
    "duration": 380,
    "start_time": "2024-07-14T14:04:53.282Z"
   },
   {
    "duration": 34,
    "start_time": "2024-07-14T14:13:35.434Z"
   },
   {
    "duration": 403,
    "start_time": "2024-07-14T14:13:38.021Z"
   },
   {
    "duration": 25,
    "start_time": "2024-07-14T14:38:02.682Z"
   },
   {
    "duration": 29,
    "start_time": "2024-07-14T14:38:12.267Z"
   },
   {
    "duration": 20,
    "start_time": "2024-07-14T14:40:45.106Z"
   },
   {
    "duration": 13,
    "start_time": "2024-07-14T14:40:51.523Z"
   },
   {
    "duration": 30,
    "start_time": "2024-07-14T14:41:04.701Z"
   },
   {
    "duration": 321,
    "start_time": "2024-07-14T14:45:47.281Z"
   },
   {
    "duration": 15,
    "start_time": "2024-07-14T14:46:31.202Z"
   },
   {
    "duration": 4,
    "start_time": "2024-07-14T14:47:18.267Z"
   },
   {
    "duration": 7,
    "start_time": "2024-07-14T14:47:22.982Z"
   },
   {
    "duration": 6,
    "start_time": "2024-07-14T14:47:29.985Z"
   },
   {
    "duration": 432,
    "start_time": "2024-07-14T14:47:37.661Z"
   },
   {
    "duration": 6,
    "start_time": "2024-07-14T14:48:28.481Z"
   },
   {
    "duration": 5,
    "start_time": "2024-07-14T14:48:32.546Z"
   },
   {
    "duration": 322,
    "start_time": "2024-07-14T14:49:22.782Z"
   },
   {
    "duration": 376,
    "start_time": "2024-07-14T14:49:45.342Z"
   },
   {
    "duration": 7,
    "start_time": "2024-07-14T14:51:36.391Z"
   },
   {
    "duration": 28,
    "start_time": "2024-07-14T14:51:39.062Z"
   },
   {
    "duration": 16,
    "start_time": "2024-07-14T14:57:34.542Z"
   },
   {
    "duration": 1841,
    "start_time": "2024-07-14T14:58:15.522Z"
   },
   {
    "duration": 194,
    "start_time": "2024-07-14T14:58:49.701Z"
   },
   {
    "duration": 317,
    "start_time": "2024-07-14T14:59:12.185Z"
   },
   {
    "duration": 294,
    "start_time": "2024-07-14T15:12:45.022Z"
   },
   {
    "duration": 229,
    "start_time": "2024-07-14T15:13:14.722Z"
   },
   {
    "duration": 620,
    "start_time": "2024-07-14T15:13:31.302Z"
   },
   {
    "duration": 434,
    "start_time": "2024-07-14T15:13:39.962Z"
   },
   {
    "duration": 15,
    "start_time": "2024-07-14T15:13:59.762Z"
   },
   {
    "duration": 404,
    "start_time": "2024-07-14T15:14:02.450Z"
   },
   {
    "duration": 7,
    "start_time": "2024-07-14T15:14:17.342Z"
   },
   {
    "duration": 34,
    "start_time": "2024-07-14T15:16:00.652Z"
   },
   {
    "duration": 26,
    "start_time": "2024-07-14T15:19:44.045Z"
   },
   {
    "duration": 27,
    "start_time": "2024-07-14T15:19:57.645Z"
   },
   {
    "duration": 234,
    "start_time": "2024-07-14T15:43:31.186Z"
   },
   {
    "duration": 43,
    "start_time": "2024-07-14T15:43:53.922Z"
   },
   {
    "duration": 8,
    "start_time": "2024-07-14T15:44:07.223Z"
   },
   {
    "duration": 233,
    "start_time": "2024-07-14T15:45:12.412Z"
   },
   {
    "duration": 304,
    "start_time": "2024-07-14T15:48:52.684Z"
   },
   {
    "duration": 265,
    "start_time": "2024-07-14T15:49:58.062Z"
   },
   {
    "duration": 13,
    "start_time": "2024-07-14T15:50:24.867Z"
   },
   {
    "duration": 321,
    "start_time": "2024-07-14T15:51:46.103Z"
   },
   {
    "duration": 23,
    "start_time": "2024-07-14T15:52:58.262Z"
   },
   {
    "duration": 776,
    "start_time": "2024-07-14T15:53:25.181Z"
   },
   {
    "duration": 18,
    "start_time": "2024-07-14T15:53:36.042Z"
   },
   {
    "duration": 24,
    "start_time": "2024-07-14T15:53:50.808Z"
   },
   {
    "duration": 21,
    "start_time": "2024-07-14T16:10:16.584Z"
   },
   {
    "duration": 576,
    "start_time": "2024-07-14T16:10:51.508Z"
   },
   {
    "duration": 34,
    "start_time": "2024-07-14T16:11:57.047Z"
   },
   {
    "duration": 56,
    "start_time": "2024-07-14T16:12:27.929Z"
   },
   {
    "duration": 30,
    "start_time": "2024-07-14T16:13:37.033Z"
   },
   {
    "duration": 583,
    "start_time": "2024-07-14T16:13:45.010Z"
   },
   {
    "duration": 554,
    "start_time": "2024-07-14T16:14:03.572Z"
   },
   {
    "duration": 16,
    "start_time": "2024-07-14T16:14:08.788Z"
   },
   {
    "duration": 451,
    "start_time": "2024-07-14T16:14:10.566Z"
   },
   {
    "duration": 22,
    "start_time": "2024-07-14T16:15:41.907Z"
   },
   {
    "duration": 487,
    "start_time": "2024-07-14T16:16:03.190Z"
   },
   {
    "duration": 8,
    "start_time": "2024-07-14T16:16:19.552Z"
   },
   {
    "duration": 310,
    "start_time": "2024-07-14T16:20:01.994Z"
   },
   {
    "duration": 7,
    "start_time": "2024-07-14T16:20:06.813Z"
   },
   {
    "duration": 326,
    "start_time": "2024-07-14T16:22:59.613Z"
   },
   {
    "duration": 23,
    "start_time": "2024-07-14T16:23:04.887Z"
   },
   {
    "duration": 1552,
    "start_time": "2024-07-14T16:23:19.687Z"
   },
   {
    "duration": 83,
    "start_time": "2024-07-14T16:23:22.373Z"
   },
   {
    "duration": 82,
    "start_time": "2024-07-14T16:23:23.090Z"
   },
   {
    "duration": 4,
    "start_time": "2024-07-14T16:23:26.253Z"
   },
   {
    "duration": 27,
    "start_time": "2024-07-14T16:23:27.692Z"
   },
   {
    "duration": 5,
    "start_time": "2024-07-14T16:23:28.852Z"
   },
   {
    "duration": 7,
    "start_time": "2024-07-14T16:23:30.393Z"
   },
   {
    "duration": 9,
    "start_time": "2024-07-14T16:23:33.334Z"
   },
   {
    "duration": 15,
    "start_time": "2024-07-14T16:23:36.676Z"
   },
   {
    "duration": 9,
    "start_time": "2024-07-14T16:23:37.177Z"
   },
   {
    "duration": 22,
    "start_time": "2024-07-14T16:23:39.994Z"
   },
   {
    "duration": 26,
    "start_time": "2024-07-14T16:23:40.537Z"
   },
   {
    "duration": 12,
    "start_time": "2024-07-14T16:23:41.437Z"
   },
   {
    "duration": 36,
    "start_time": "2024-07-14T16:23:42.132Z"
   },
   {
    "duration": 13,
    "start_time": "2024-07-14T16:23:44.332Z"
   },
   {
    "duration": 13,
    "start_time": "2024-07-14T16:23:44.572Z"
   },
   {
    "duration": 20,
    "start_time": "2024-07-14T16:23:45.318Z"
   },
   {
    "duration": 286,
    "start_time": "2024-07-14T16:23:50.372Z"
   },
   {
    "duration": 8,
    "start_time": "2024-07-14T16:23:56.422Z"
   },
   {
    "duration": 10,
    "start_time": "2024-07-14T16:23:57.060Z"
   },
   {
    "duration": 440,
    "start_time": "2024-07-14T16:24:00.334Z"
   },
   {
    "duration": 19,
    "start_time": "2024-07-14T16:24:07.019Z"
   },
   {
    "duration": 12,
    "start_time": "2024-07-14T16:24:10.504Z"
   },
   {
    "duration": 448,
    "start_time": "2024-07-14T16:24:14.053Z"
   },
   {
    "duration": 296,
    "start_time": "2024-07-14T16:24:17.053Z"
   },
   {
    "duration": 330,
    "start_time": "2024-07-14T16:24:19.677Z"
   },
   {
    "duration": 38,
    "start_time": "2024-07-14T16:24:23.152Z"
   },
   {
    "duration": 528,
    "start_time": "2024-07-14T16:24:26.092Z"
   },
   {
    "duration": 7,
    "start_time": "2024-07-14T16:24:34.753Z"
   },
   {
    "duration": 68,
    "start_time": "2024-07-14T16:24:35.798Z"
   },
   {
    "duration": 18,
    "start_time": "2024-07-14T16:24:38.477Z"
   },
   {
    "duration": 466,
    "start_time": "2024-07-14T16:24:43.577Z"
   },
   {
    "duration": 10,
    "start_time": "2024-07-14T16:24:46.607Z"
   },
   {
    "duration": 45,
    "start_time": "2024-07-14T16:24:50.515Z"
   },
   {
    "duration": 22,
    "start_time": "2024-07-14T16:24:55.364Z"
   },
   {
    "duration": 582,
    "start_time": "2024-07-14T16:24:56.122Z"
   },
   {
    "duration": 8,
    "start_time": "2024-07-14T16:25:01.163Z"
   },
   {
    "duration": 16,
    "start_time": "2024-07-14T16:25:02.852Z"
   },
   {
    "duration": 492,
    "start_time": "2024-07-14T16:25:05.397Z"
   },
   {
    "duration": 7,
    "start_time": "2024-07-14T16:25:07.192Z"
   },
   {
    "duration": 15,
    "start_time": "2024-07-14T16:25:08.533Z"
   },
   {
    "duration": 621,
    "start_time": "2024-07-14T16:25:11.437Z"
   },
   {
    "duration": 7,
    "start_time": "2024-07-14T16:25:12.315Z"
   },
   {
    "duration": 139,
    "start_time": "2024-07-14T16:25:47.537Z"
   },
   {
    "duration": 20,
    "start_time": "2024-07-14T16:25:59.192Z"
   },
   {
    "duration": 17,
    "start_time": "2024-07-14T16:26:11.353Z"
   },
   {
    "duration": 11,
    "start_time": "2024-07-14T16:27:05.009Z"
   },
   {
    "duration": 271,
    "start_time": "2024-07-14T16:27:23.297Z"
   },
   {
    "duration": 11,
    "start_time": "2024-07-14T16:27:42.632Z"
   },
   {
    "duration": 309,
    "start_time": "2024-07-14T16:27:46.074Z"
   },
   {
    "duration": 14,
    "start_time": "2024-07-14T16:28:19.017Z"
   },
   {
    "duration": 286,
    "start_time": "2024-07-14T16:28:23.812Z"
   },
   {
    "duration": 9,
    "start_time": "2024-07-14T16:28:29.582Z"
   },
   {
    "duration": 303,
    "start_time": "2024-07-14T16:28:32.497Z"
   },
   {
    "duration": 27,
    "start_time": "2024-07-14T16:39:49.037Z"
   },
   {
    "duration": 11,
    "start_time": "2024-07-14T16:39:53.854Z"
   },
   {
    "duration": 13,
    "start_time": "2024-07-14T16:39:58.053Z"
   },
   {
    "duration": 13,
    "start_time": "2024-07-14T16:40:06.539Z"
   },
   {
    "duration": 14,
    "start_time": "2024-07-14T16:40:09.395Z"
   },
   {
    "duration": 10,
    "start_time": "2024-07-14T16:40:16.653Z"
   },
   {
    "duration": 14,
    "start_time": "2024-07-14T16:40:18.972Z"
   },
   {
    "duration": 11,
    "start_time": "2024-07-14T16:40:30.097Z"
   },
   {
    "duration": 15,
    "start_time": "2024-07-14T16:40:32.791Z"
   },
   {
    "duration": 10,
    "start_time": "2024-07-14T16:51:16.567Z"
   },
   {
    "duration": 15,
    "start_time": "2024-07-14T16:51:16.982Z"
   },
   {
    "duration": 10,
    "start_time": "2024-07-14T17:00:56.687Z"
   },
   {
    "duration": 13,
    "start_time": "2024-07-14T17:00:58.647Z"
   },
   {
    "duration": 11,
    "start_time": "2024-07-14T17:12:21.968Z"
   },
   {
    "duration": 11,
    "start_time": "2024-07-14T17:12:48.042Z"
   },
   {
    "duration": 5692,
    "start_time": "2024-07-15T05:27:55.023Z"
   },
   {
    "duration": 57,
    "start_time": "2024-07-15T05:28:00.719Z"
   },
   {
    "duration": 54,
    "start_time": "2024-07-15T05:28:00.778Z"
   },
   {
    "duration": 6,
    "start_time": "2024-07-15T05:28:00.837Z"
   },
   {
    "duration": 18,
    "start_time": "2024-07-15T05:28:00.846Z"
   },
   {
    "duration": 7,
    "start_time": "2024-07-15T05:28:00.866Z"
   },
   {
    "duration": 34,
    "start_time": "2024-07-15T05:28:00.876Z"
   },
   {
    "duration": 8,
    "start_time": "2024-07-15T05:28:00.914Z"
   },
   {
    "duration": 15,
    "start_time": "2024-07-15T05:28:00.926Z"
   },
   {
    "duration": 8,
    "start_time": "2024-07-15T05:28:00.947Z"
   },
   {
    "duration": 66,
    "start_time": "2024-07-15T05:28:00.958Z"
   },
   {
    "duration": 21,
    "start_time": "2024-07-15T05:28:01.027Z"
   },
   {
    "duration": 10,
    "start_time": "2024-07-15T05:28:01.051Z"
   },
   {
    "duration": 54,
    "start_time": "2024-07-15T05:28:01.064Z"
   },
   {
    "duration": 13,
    "start_time": "2024-07-15T05:28:01.121Z"
   },
   {
    "duration": 12,
    "start_time": "2024-07-15T05:28:01.138Z"
   },
   {
    "duration": 12,
    "start_time": "2024-07-15T05:28:01.152Z"
   },
   {
    "duration": 306,
    "start_time": "2024-07-15T05:28:01.167Z"
   },
   {
    "duration": 8,
    "start_time": "2024-07-15T05:28:01.476Z"
   },
   {
    "duration": 7,
    "start_time": "2024-07-15T05:28:01.508Z"
   },
   {
    "duration": 415,
    "start_time": "2024-07-15T05:28:01.518Z"
   },
   {
    "duration": 14,
    "start_time": "2024-07-15T05:28:01.937Z"
   },
   {
    "duration": 5,
    "start_time": "2024-07-15T05:28:01.954Z"
   },
   {
    "duration": 446,
    "start_time": "2024-07-15T05:28:01.962Z"
   },
   {
    "duration": 241,
    "start_time": "2024-07-15T05:28:02.411Z"
   },
   {
    "duration": 278,
    "start_time": "2024-07-15T05:28:02.655Z"
   },
   {
    "duration": 34,
    "start_time": "2024-07-15T05:28:02.936Z"
   },
   {
    "duration": 434,
    "start_time": "2024-07-15T05:28:02.978Z"
   },
   {
    "duration": 443,
    "start_time": "2024-07-15T05:28:03.416Z"
   },
   {
    "duration": 9,
    "start_time": "2024-07-15T05:28:03.862Z"
   },
   {
    "duration": 58,
    "start_time": "2024-07-15T05:28:03.874Z"
   },
   {
    "duration": 17,
    "start_time": "2024-07-15T05:28:03.936Z"
   },
   {
    "duration": 456,
    "start_time": "2024-07-15T05:28:03.956Z"
   },
   {
    "duration": 11,
    "start_time": "2024-07-15T05:28:04.415Z"
   },
   {
    "duration": 31,
    "start_time": "2024-07-15T05:28:04.432Z"
   },
   {
    "duration": 47,
    "start_time": "2024-07-15T05:28:04.466Z"
   },
   {
    "duration": 510,
    "start_time": "2024-07-15T05:28:04.516Z"
   },
   {
    "duration": 8,
    "start_time": "2024-07-15T05:28:05.029Z"
   },
   {
    "duration": 17,
    "start_time": "2024-07-15T05:28:05.040Z"
   },
   {
    "duration": 439,
    "start_time": "2024-07-15T05:28:05.060Z"
   },
   {
    "duration": 14,
    "start_time": "2024-07-15T05:28:05.502Z"
   },
   {
    "duration": 17,
    "start_time": "2024-07-15T05:28:05.520Z"
   },
   {
    "duration": 477,
    "start_time": "2024-07-15T05:28:05.541Z"
   },
   {
    "duration": 7,
    "start_time": "2024-07-15T05:28:06.022Z"
   },
   {
    "duration": 19,
    "start_time": "2024-07-15T05:28:06.032Z"
   },
   {
    "duration": 54,
    "start_time": "2024-07-15T05:28:06.055Z"
   },
   {
    "duration": 301,
    "start_time": "2024-07-15T05:28:06.112Z"
   },
   {
    "duration": 12,
    "start_time": "2024-07-15T05:28:06.416Z"
   },
   {
    "duration": 15,
    "start_time": "2024-07-15T05:28:06.432Z"
   },
   {
    "duration": 12,
    "start_time": "2024-07-15T05:28:06.450Z"
   },
   {
    "duration": 55,
    "start_time": "2024-07-15T05:28:06.466Z"
   },
   {
    "duration": 8,
    "start_time": "2024-07-15T05:28:06.530Z"
   },
   {
    "duration": 15,
    "start_time": "2024-07-15T05:28:06.542Z"
   },
   {
    "duration": 52,
    "start_time": "2024-07-15T05:28:06.561Z"
   },
   {
    "duration": 13,
    "start_time": "2024-07-15T05:28:06.617Z"
   },
   {
    "duration": 444,
    "start_time": "2024-07-15T11:44:27.653Z"
   },
   {
    "duration": 5815,
    "start_time": "2024-07-15T11:45:14.727Z"
   },
   {
    "duration": 76,
    "start_time": "2024-07-15T11:45:20.548Z"
   },
   {
    "duration": 60,
    "start_time": "2024-07-15T11:45:22.067Z"
   },
   {
    "duration": 7,
    "start_time": "2024-07-15T11:45:26.987Z"
   },
   {
    "duration": 28,
    "start_time": "2024-07-15T11:45:27.337Z"
   },
   {
    "duration": 10,
    "start_time": "2024-07-15T11:45:28.626Z"
   },
   {
    "duration": 8,
    "start_time": "2024-07-15T11:45:29.447Z"
   },
   {
    "duration": 14,
    "start_time": "2024-07-15T11:45:37.089Z"
   },
   {
    "duration": 11,
    "start_time": "2024-07-15T11:45:37.407Z"
   },
   {
    "duration": 24,
    "start_time": "2024-07-15T11:45:45.606Z"
   },
   {
    "duration": 18,
    "start_time": "2024-07-15T11:45:45.890Z"
   },
   {
    "duration": 14,
    "start_time": "2024-07-15T11:45:46.268Z"
   },
   {
    "duration": 337,
    "start_time": "2024-07-15T11:45:51.247Z"
   },
   {
    "duration": 10,
    "start_time": "2024-07-15T11:45:56.267Z"
   },
   {
    "duration": 12,
    "start_time": "2024-07-15T11:45:56.447Z"
   },
   {
    "duration": 461,
    "start_time": "2024-07-15T11:46:04.466Z"
   },
   {
    "duration": 17,
    "start_time": "2024-07-15T11:46:20.406Z"
   },
   {
    "duration": 6,
    "start_time": "2024-07-15T11:46:21.227Z"
   },
   {
    "duration": 642,
    "start_time": "2024-07-15T11:46:26.310Z"
   },
   {
    "duration": 43,
    "start_time": "2024-07-15T11:47:48.506Z"
   },
   {
    "duration": 613,
    "start_time": "2024-07-15T11:48:04.746Z"
   },
   {
    "duration": 11,
    "start_time": "2024-07-15T11:48:12.806Z"
   },
   {
    "duration": 19,
    "start_time": "2024-07-15T11:48:24.748Z"
   },
   {
    "duration": 565,
    "start_time": "2024-07-15T11:48:29.906Z"
   },
   {
    "duration": 45,
    "start_time": "2024-07-15T11:48:48.528Z"
   },
   {
    "duration": 16,
    "start_time": "2024-07-15T11:49:11.126Z"
   },
   {
    "duration": 540,
    "start_time": "2024-07-15T11:49:16.786Z"
   },
   {
    "duration": 17,
    "start_time": "2024-07-15T11:49:33.646Z"
   },
   {
    "duration": 457,
    "start_time": "2024-07-15T11:49:36.027Z"
   },
   {
    "duration": 11,
    "start_time": "2024-07-15T11:49:41.313Z"
   },
   {
    "duration": 9,
    "start_time": "2024-07-15T11:49:45.826Z"
   },
   {
    "duration": 20,
    "start_time": "2024-07-15T11:49:56.527Z"
   },
   {
    "duration": 579,
    "start_time": "2024-07-15T11:49:59.026Z"
   },
   {
    "duration": 9,
    "start_time": "2024-07-15T11:50:03.028Z"
   },
   {
    "duration": 18,
    "start_time": "2024-07-15T11:50:19.008Z"
   },
   {
    "duration": 24,
    "start_time": "2024-07-15T11:55:05.892Z"
   },
   {
    "duration": 54,
    "start_time": "2024-07-15T11:56:54.454Z"
   }
  ],
  "kernelspec": {
   "display_name": "Python 3 (ipykernel)",
   "language": "python",
   "name": "python3"
  },
  "language_info": {
   "codemirror_mode": {
    "name": "ipython",
    "version": 3
   },
   "file_extension": ".py",
   "mimetype": "text/x-python",
   "name": "python",
   "nbconvert_exporter": "python",
   "pygments_lexer": "ipython3",
   "version": "3.11.9"
  },
  "toc": {
   "base_numbering": 1,
   "nav_menu": {},
   "number_sections": true,
   "sideBar": true,
   "skip_h1_title": true,
   "title_cell": "Table of Contents",
   "title_sidebar": "Contents",
   "toc_cell": false,
   "toc_position": {
    "height": "calc(100% - 180px)",
    "left": "10px",
    "top": "150px",
    "width": "203.4px"
   },
   "toc_section_display": true,
   "toc_window_display": true
  }
 },
 "nbformat": 4,
 "nbformat_minor": 5
}
